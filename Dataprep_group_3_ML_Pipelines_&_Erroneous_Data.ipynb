{
  "nbformat": 4,
  "nbformat_minor": 0,
  "metadata": {
    "colab": {
      "provenance": [],
      "gpuType": "T4",
      "toc_visible": true
    },
    "kernelspec": {
      "name": "python3",
      "display_name": "Python 3"
    },
    "accelerator": "GPU",
    "language_info": {
      "name": "python"
    }
  },
  "cells": [
    {
      "cell_type": "markdown",
      "source": [
        "# Setup\n",
        "\n",
        "**We need python verison < 3.10 for jenga**"
      ],
      "metadata": {
        "id": "XnWypVV4FgDv"
      }
    },
    {
      "cell_type": "code",
      "source": [
        "# Install dependencies (using python 3.8)\n",
        "from IPython.display import clear_output\n",
        "!pip3.8 install pandas jenga\n",
        "clear_output()"
      ],
      "metadata": {
        "id": "g1vd1vZQodjF"
      },
      "execution_count": null,
      "outputs": []
    },
    {
      "cell_type": "code",
      "source": [
        "# Ensure correct python version\n",
        "import sys\n",
        "print(sys.version)\n",
        "assert sys.version_info >= (3, 7, 0)\n",
        "assert sys.version_info < (3, 10, 0)"
      ],
      "metadata": {
        "id": "kC995TgonBzq",
        "colab": {
          "base_uri": "https://localhost:8080/"
        },
        "outputId": "8c52e9c3-57d6-4c8d-8e21-2a656c8081b8"
      },
      "execution_count": null,
      "outputs": [
        {
          "output_type": "stream",
          "name": "stdout",
          "text": [
            "3.8.0 (tags/v3.8.0:fa919fd, Oct 14 2019, 19:37:50) [MSC v.1916 64 bit (AMD64)]\n"
          ]
        }
      ]
    },
    {
      "cell_type": "code",
      "source": [
        "import json\n",
        "import pandas as pd\n",
        "import jenga\n",
        "import numpy as np\n",
        "import os"
      ],
      "metadata": {
        "id": "g3a0WxfFJrim"
      },
      "execution_count": null,
      "outputs": []
    },
    {
      "cell_type": "code",
      "source": [
        "# download & unzip second (renttherunway) dataset if needed\n",
        "!wget https://datarepo.eng.ucsd.edu/mcauley_group/data/renttherunway/renttherunway_final_data.json.gz\n",
        "!gzip -d renttherunway_final_data.json.gz -f"
      ],
      "metadata": {
        "id": "8BRFUcq7OUTv",
        "colab": {
          "base_uri": "https://localhost:8080/"
        },
        "outputId": "09270cb6-37cc-4050-e65e-015011f4ea16"
      },
      "execution_count": null,
      "outputs": [
        {
          "output_type": "stream",
          "name": "stdout",
          "text": [
            "--2024-03-20 17:54:59--  https://datarepo.eng.ucsd.edu/mcauley_group/data/renttherunway/renttherunway_final_data.json.gz\r\n",
            "Resolving datarepo.eng.ucsd.edu (datarepo.eng.ucsd.edu)... 132.239.8.30\n",
            "Connecting to datarepo.eng.ucsd.edu (datarepo.eng.ucsd.edu)|132.239.8.30|:443... connected.\n",
            "HTTP request sent, awaiting response... 200 OK\n",
            "Length: 31493535 (30M) [application/x-gzip]\n",
            "Saving to: ‘renttherunway_final_data.json.gz’\n",
            "\n",
            "renttherunway_final 100%[===================>]  30,03M   720KB/s    in 57s     \n",
            "\n",
            "2024-03-20 17:55:57 (537 KB/s) - ‘renttherunway_final_data.json.gz’ saved [31493535/31493535]\n",
            "\n"
          ]
        }
      ]
    },
    {
      "cell_type": "markdown",
      "source": [
        "# Injecting Errors with Jenga"
      ],
      "metadata": {
        "id": "RR1yfbdItCkh"
      }
    },
    {
      "cell_type": "markdown",
      "source": [
        "## Missing Values\n",
        "\n",
        "'Missingness' Terminology:\n",
        "*   **MCAR:** Missing completely at random\n",
        "*   **MAR:** Missing at random - corruption is conditioned on other column\n",
        "*   **MNAR:** Missing not at random - corruption is conditioned on values in column on which it is applied"
      ],
      "metadata": {
        "id": "MWPkFUHGuGUr"
      }
    },
    {
      "cell_type": "code",
      "source": [
        "#USABLE\n",
        "from jenga.corruptions.generic import MissingValues\n",
        "\n",
        "def missing_values(df, column, fraction=.5, missingness='MCAR'):\n",
        "\n",
        "    df[column] = MissingValues(column=column, fraction=fraction, missingness=missingness).transform(df)[column]\n",
        "    return df\n"
      ],
      "metadata": {
        "id": "1-e3jxwmkoRT"
      },
      "execution_count": null,
      "outputs": []
    },
    {
      "cell_type": "code",
      "source": [
        "from jenga.basis import DataCorruption\n",
        "class MillisInsteadOfSeconds ( DataCorruption ):\n",
        "\n",
        "    def transform ( self , data, column ):\n",
        "        self.fraction = 0.2\n",
        "        self.column = column\n",
        "        # Operate on a copy of the data\n",
        "        corrupted_data = data.copy( deep = True )\n",
        "        # Pick a random fraction of the rows\n",
        "        # Multiply the column values of the chosen rows\n",
        "        corrupted_data[self.column] = corrupted_data[self.column] * 1000\n",
        "        return corrupted_data\n",
        "\n",
        "def second_to_millis(df, column):\n",
        "  tranfomer = MillisInsteadOfSeconds()\n",
        "  df = df.ffill()\n",
        "  df = tranfomer.transform(df, column)\n",
        "  return df"
      ],
      "metadata": {
        "id": "RALj9XiWkkBz"
      },
      "execution_count": null,
      "outputs": []
    },
    {
      "cell_type": "markdown",
      "source": [
        "## Swapping Values"
      ],
      "metadata": {
        "id": "LzN-Pt0luKLh"
      }
    },
    {
      "cell_type": "code",
      "source": [
        "#USABLE\n",
        "from jenga.corruptions.generic import SwappedValues\n",
        "\n",
        "def swapping_values(df, column1, column2, fraction=.5, missingness='MCAR'):\n",
        "  print(df.columns)\n",
        "  print(column1, column2)\n",
        "  df = SwappedValues(column=column1, fraction=fraction, sampling=missingness, swap_with=column2).transform(df)\n",
        "  return df\n"
      ],
      "metadata": {
        "id": "HgUP1ESZrBrf"
      },
      "execution_count": null,
      "outputs": []
    },
    {
      "cell_type": "markdown",
      "source": [
        "## Messing up categorical values"
      ],
      "metadata": {
        "id": "72plFLiKzD_P"
      }
    },
    {
      "cell_type": "code",
      "source": [
        "#USABLE\n",
        "from jenga.corruptions.generic import CategoricalShift\n",
        "\n",
        "def permute_categories(df, column, fraction=.5, missingness='MAR'):\n",
        "    df[column] = CategoricalShift(column=column, fraction=fraction, sampling=missingness).transform(df)[column]\n",
        "    return df"
      ],
      "metadata": {
        "id": "XExAkCF7zDch"
      },
      "execution_count": null,
      "outputs": []
    },
    {
      "cell_type": "markdown",
      "source": [
        "## Adding Gaussian Noise and rounding"
      ],
      "metadata": {
        "id": "WSx2umfOzpmS"
      }
    },
    {
      "cell_type": "code",
      "source": [
        "from jenga.corruptions.numerical import GaussianNoise\n",
        "\n",
        "def noise_and_rounding(df, column, fraction=.5, missingness='MCAR'):\n",
        "  df[column] = df[column].astype(str)\n",
        "  parts = df[column].str.extract(r'^(\\D*?)(\\d+\\.*\\d*)(.*)')\n",
        "  parts[1] = parts[1].astype(float)\n",
        "  df[column] = GaussianNoise(column=column, fraction=fraction, sampling=missingness).transform(df)[column]\n",
        "\n",
        "\n",
        "  df[column] = df[column].round(0).astype(int)\n",
        "\n",
        "  combined_values = parts[0] + parts[1].astype(str) + parts[2]\n",
        "\n",
        "  df[column] = combined_values\n",
        "\n",
        "  return df\n",
        "\n"
      ],
      "metadata": {
        "id": "Ml8vBPNmzgRf"
      },
      "execution_count": null,
      "outputs": []
    },
    {
      "cell_type": "markdown",
      "source": [
        "## Scaling error\n"
      ],
      "metadata": {
        "id": "b5O00iYiSABa"
      }
    },
    {
      "cell_type": "code",
      "source": [
        "#USABLE\n",
        "from jenga.corruptions.numerical import Scaling\n",
        "\n",
        "def scale(df, column, fraction=.5, missingness='MCAR'):\n",
        "\n",
        "  df[column] = df[column].astype(str)\n",
        "\n",
        "  parts = df[column].str.extract(r'^(\\D*?)(\\d+\\.*\\d*)(.*)')\n",
        "\n",
        "\n",
        "  parts[1] = parts[1].astype(float)\n",
        "\n",
        "  parts[1] = Scaling(column = 1, fraction =fraction, sampling=missingness).transform(parts)[1]\n",
        "\n",
        "  # Append non-numerical part to numerical part\n",
        "  combined_values = parts[0] + parts[1].astype(str) + parts[2]\n",
        "\n",
        "  df[column] = combined_values\n",
        "\n",
        "\n",
        "\n",
        "  return df\n"
      ],
      "metadata": {
        "id": "Yvu2hsj80X3J"
      },
      "execution_count": null,
      "outputs": []
    },
    {
      "cell_type": "markdown",
      "source": [
        "## Unit Conversion"
      ],
      "metadata": {
        "id": "Irm8CfPimJph"
      }
    },
    {
      "cell_type": "code",
      "source": [
        "from jenga.basis import TabularCorruption\n",
        "\n",
        "# transforms string data for height in feet and inches into corresponding height in meters and cm\n",
        "class UnitTransform(TabularCorruption):\n",
        "    #Imperial to metric\n",
        "    def convert_to_metric(self, height):\n",
        "      if 'ft' in height and 'in' in height:\n",
        "        feet, inches = height.split(' ')\n",
        "        feet_cm = float(feet.replace(\"'\",\"\")) * 30.48\n",
        "        inches_cm = float(inches.replace('\"',\"\")) * 2.54\n",
        "        height_in_cm = round(feet_cm + inches_cm)\n",
        "        cm = height_in_cm%100\n",
        "        meter = round((height_in_cm - cm)/100)\n",
        "\n",
        "        return str(meter) + \"m \" + str(cm) + \"cm\"\n",
        "      else:\n",
        "        return height\n",
        "\n",
        "    def transform(self, data):\n",
        "      df = data.copy(deep=True)\n",
        "\n",
        "      if self.fraction > 0:\n",
        "          rows = self.sample_rows(data)\n",
        "          df.loc[rows, self.column] = df.loc[rows, self.column].apply(lambda x: self.convert_to_metric(x))\n",
        "\n",
        "      return df\n"
      ],
      "metadata": {
        "id": "wf7RdCxsUe3u"
      },
      "execution_count": null,
      "outputs": []
    },
    {
      "cell_type": "code",
      "source": [
        "\n",
        "def Unit_inch_to_cm(df, column, fraction=.5, missingness='MCAR'):\n",
        "  df[column] = UnitTransform(column=column, fraction=fraction, sampling=missingness).transform(df)[column]\n",
        "  return df"
      ],
      "metadata": {
        "id": "Dr-RbpWMYda-"
      },
      "execution_count": null,
      "outputs": []
    },
    {
      "cell_type": "markdown",
      "source": [
        "# Injecting Text Errors"
      ],
      "metadata": {
        "id": "NtAi3RZF3io1"
      }
    },
    {
      "cell_type": "markdown",
      "source": [
        "## Setup Textattack\n",
        "This is system specific and unstable"
      ],
      "metadata": {
        "id": "JUerVTynRjMQ"
      }
    },
    {
      "cell_type": "code",
      "source": [
        "# Install dependency (using python 3.8)\n",
        "from IPython.display import clear_output\n",
        "!pip3.8 install textattack\n",
        "clear_output()"
      ],
      "metadata": {
        "id": "wvK-8nKn3sUf"
      },
      "execution_count": null,
      "outputs": []
    },
    {
      "cell_type": "code",
      "source": [
        "!pip3.8 install --upgrade --force-reinstall lxml"
      ],
      "metadata": {
        "id": "3yjAgOks41OK",
        "colab": {
          "base_uri": "https://localhost:8080/"
        },
        "outputId": "cfd8e07a-9896-46cf-b581-4941ef3b483c"
      },
      "execution_count": null,
      "outputs": [
        {
          "output_type": "stream",
          "name": "stdout",
          "text": [
            "\u001b[33mDEPRECATION: Configuring installation scheme with distutils config files is deprecated and will no longer work in the near future. If you are using a Homebrew or Linuxbrew Python, please see discussion at https://github.com/Homebrew/homebrew-core/issues/76621\u001b[0m\u001b[33m\n",
            "\u001b[0mCollecting lxml\n",
            "  Using cached lxml-5.1.0-cp38-cp38-macosx_10_9_universal2.whl.metadata (3.5 kB)\n",
            "Using cached lxml-5.1.0-cp38-cp38-macosx_10_9_universal2.whl (6.2 MB)\n",
            "Installing collected packages: lxml\n",
            "  Attempting uninstall: lxml\n",
            "    Found existing installation: lxml 5.1.0\n",
            "    Uninstalling lxml-5.1.0:\n",
            "      Successfully uninstalled lxml-5.1.0\n",
            "\u001b[33m  DEPRECATION: Configuring installation scheme with distutils config files is deprecated and will no longer work in the near future. If you are using a Homebrew or Linuxbrew Python, please see discussion at https://github.com/Homebrew/homebrew-core/issues/76621\u001b[0m\u001b[33m\n",
            "\u001b[0m\u001b[33mDEPRECATION: Configuring installation scheme with distutils config files is deprecated and will no longer work in the near future. If you are using a Homebrew or Linuxbrew Python, please see discussion at https://github.com/Homebrew/homebrew-core/issues/76621\u001b[0m\u001b[33m\n",
            "\u001b[0mSuccessfully installed lxml-5.1.0\n"
          ]
        }
      ]
    },
    {
      "cell_type": "code",
      "source": [
        "!pip3.8 install cython==0.29.14\n",
        "!pip3.8 install numpy==1.18 --upgrade --force-reinstall --no-build-isolation\n",
        "!pip3.8 install --upgrade pip setuptools wheel"
      ],
      "metadata": {
        "id": "PDiJxQfd5lIw",
        "colab": {
          "base_uri": "https://localhost:8080/"
        },
        "outputId": "83272ddb-17b8-42a7-cd94-98458b03f436"
      },
      "execution_count": null,
      "outputs": [
        {
          "output_type": "stream",
          "name": "stdout",
          "text": [
            "\u001b[33mDEPRECATION: Configuring installation scheme with distutils config files is deprecated and will no longer work in the near future. If you are using a Homebrew or Linuxbrew Python, please see discussion at https://github.com/Homebrew/homebrew-core/issues/76621\u001b[0m\u001b[33m\n",
            "\u001b[0mCollecting cython==0.29.14\n",
            "  Using cached Cython-0.29.14-cp38-cp38-macosx_14_0_arm64.whl\n",
            "Installing collected packages: cython\n",
            "  Attempting uninstall: cython\n",
            "    Found existing installation: Cython 3.0.9\n",
            "    Uninstalling Cython-3.0.9:\n",
            "      Successfully uninstalled Cython-3.0.9\n",
            "\u001b[33m  DEPRECATION: Configuring installation scheme with distutils config files is deprecated and will no longer work in the near future. If you are using a Homebrew or Linuxbrew Python, please see discussion at https://github.com/Homebrew/homebrew-core/issues/76621\u001b[0m\u001b[33m\n",
            "\u001b[0m\u001b[33mDEPRECATION: Configuring installation scheme with distutils config files is deprecated and will no longer work in the near future. If you are using a Homebrew or Linuxbrew Python, please see discussion at https://github.com/Homebrew/homebrew-core/issues/76621\u001b[0m\u001b[33m\n",
            "\u001b[0mSuccessfully installed cython-0.29.14\n",
            "\u001b[33mDEPRECATION: Configuring installation scheme with distutils config files is deprecated and will no longer work in the near future. If you are using a Homebrew or Linuxbrew Python, please see discussion at https://github.com/Homebrew/homebrew-core/issues/76621\u001b[0m\u001b[33m\n",
            "\u001b[0mCollecting numpy==1.18\n",
            "  Using cached numpy-1.18.0.zip (5.4 MB)\n",
            "  Preparing metadata (pyproject.toml) ... \u001b[?25l-\b \b\\\b \berror\n",
            "  \u001b[1;31merror\u001b[0m: \u001b[1msubprocess-exited-with-error\u001b[0m\n",
            "  \n",
            "  \u001b[31m×\u001b[0m \u001b[32mPreparing metadata \u001b[0m\u001b[1;32m(\u001b[0m\u001b[32mpyproject.toml\u001b[0m\u001b[1;32m)\u001b[0m did not run successfully.\n",
            "  \u001b[31m│\u001b[0m exit code: \u001b[1;36m1\u001b[0m\n",
            "  \u001b[31m╰─>\u001b[0m \u001b[31m[209 lines of output]\u001b[0m\n",
            "  \u001b[31m   \u001b[0m /private/var/folders/ck/5zl9m9515fj65p11t87c50700000gn/T/pip-install-n46392ex/numpy_e6a89c8079c946729522f2bf25fec3e5/tools/cythonize.py:75: DeprecationWarning: distutils Version classes are deprecated. Use packaging.version instead.\n",
            "  \u001b[31m   \u001b[0m   required_version = LooseVersion('0.29.13')\n",
            "  \u001b[31m   \u001b[0m /private/var/folders/ck/5zl9m9515fj65p11t87c50700000gn/T/pip-install-n46392ex/numpy_e6a89c8079c946729522f2bf25fec3e5/tools/cythonize.py:77: DeprecationWarning: distutils Version classes are deprecated. Use packaging.version instead.\n",
            "  \u001b[31m   \u001b[0m   if LooseVersion(cython_version) < required_version:\n",
            "  \u001b[31m   \u001b[0m Processing numpy/random/_bounded_integers.pxd.in\n",
            "  \u001b[31m   \u001b[0m Processing numpy/random/_philox.pyx\n",
            "  \u001b[31m   \u001b[0m Processing numpy/random/_bit_generator.pyx\n",
            "  \u001b[31m   \u001b[0m Processing numpy/random/_bounded_integers.pyx.in\n",
            "  \u001b[31m   \u001b[0m Processing numpy/random/_sfc64.pyx\n",
            "  \u001b[31m   \u001b[0m Processing numpy/random/_mt19937.pyx\n",
            "  \u001b[31m   \u001b[0m Processing numpy/random/mtrand.pyx\n",
            "  \u001b[31m   \u001b[0m Processing numpy/random/_generator.pyx\n",
            "  \u001b[31m   \u001b[0m Processing numpy/random/_pcg64.pyx\n",
            "  \u001b[31m   \u001b[0m Processing numpy/random/_common.pyx\n",
            "  \u001b[31m   \u001b[0m Cythonizing sources\n",
            "  \u001b[31m   \u001b[0m blas_opt_info:\n",
            "  \u001b[31m   \u001b[0m blas_mkl_info:\n",
            "  \u001b[31m   \u001b[0m customize UnixCCompiler\n",
            "  \u001b[31m   \u001b[0m   libraries mkl_rt not found in ['/opt/homebrew/Cellar/python@3.8/3.8.19/Frameworks/Python.framework/Versions/3.8/lib', '/usr/lib']\n",
            "  \u001b[31m   \u001b[0m   NOT AVAILABLE\n",
            "  \u001b[31m   \u001b[0m \n",
            "  \u001b[31m   \u001b[0m blis_info:\n",
            "  \u001b[31m   \u001b[0m   libraries blis not found in ['/opt/homebrew/Cellar/python@3.8/3.8.19/Frameworks/Python.framework/Versions/3.8/lib', '/usr/lib']\n",
            "  \u001b[31m   \u001b[0m   NOT AVAILABLE\n",
            "  \u001b[31m   \u001b[0m \n",
            "  \u001b[31m   \u001b[0m openblas_info:\n",
            "  \u001b[31m   \u001b[0m   libraries openblas not found in ['/opt/homebrew/Cellar/python@3.8/3.8.19/Frameworks/Python.framework/Versions/3.8/lib', '/usr/lib']\n",
            "  \u001b[31m   \u001b[0m   NOT AVAILABLE\n",
            "  \u001b[31m   \u001b[0m \n",
            "  \u001b[31m   \u001b[0m atlas_3_10_blas_threads_info:\n",
            "  \u001b[31m   \u001b[0m Setting PTATLAS=ATLAS\n",
            "  \u001b[31m   \u001b[0m   libraries tatlas not found in ['/opt/homebrew/Cellar/python@3.8/3.8.19/Frameworks/Python.framework/Versions/3.8/lib', '/usr/lib']\n",
            "  \u001b[31m   \u001b[0m   NOT AVAILABLE\n",
            "  \u001b[31m   \u001b[0m \n",
            "  \u001b[31m   \u001b[0m atlas_3_10_blas_info:\n",
            "  \u001b[31m   \u001b[0m   libraries satlas not found in ['/opt/homebrew/Cellar/python@3.8/3.8.19/Frameworks/Python.framework/Versions/3.8/lib', '/usr/lib']\n",
            "  \u001b[31m   \u001b[0m   NOT AVAILABLE\n",
            "  \u001b[31m   \u001b[0m \n",
            "  \u001b[31m   \u001b[0m atlas_blas_threads_info:\n",
            "  \u001b[31m   \u001b[0m Setting PTATLAS=ATLAS\n",
            "  \u001b[31m   \u001b[0m   libraries ptf77blas,ptcblas,atlas not found in ['/opt/homebrew/Cellar/python@3.8/3.8.19/Frameworks/Python.framework/Versions/3.8/lib', '/usr/lib']\n",
            "  \u001b[31m   \u001b[0m   NOT AVAILABLE\n",
            "  \u001b[31m   \u001b[0m \n",
            "  \u001b[31m   \u001b[0m atlas_blas_info:\n",
            "  \u001b[31m   \u001b[0m   libraries f77blas,cblas,atlas not found in ['/opt/homebrew/Cellar/python@3.8/3.8.19/Frameworks/Python.framework/Versions/3.8/lib', '/usr/lib']\n",
            "  \u001b[31m   \u001b[0m   NOT AVAILABLE\n",
            "  \u001b[31m   \u001b[0m \n",
            "  \u001b[31m   \u001b[0m accelerate_info:\n",
            "  \u001b[31m   \u001b[0m   libraries accelerate not found in ['/opt/homebrew/Cellar/python@3.8/3.8.19/Frameworks/Python.framework/Versions/3.8/lib', '/usr/lib']\n",
            "  \u001b[31m   \u001b[0m Library accelerate was not found. Ignoring\n",
            "  \u001b[31m   \u001b[0m   libraries veclib not found in ['/opt/homebrew/Cellar/python@3.8/3.8.19/Frameworks/Python.framework/Versions/3.8/lib', '/usr/lib']\n",
            "  \u001b[31m   \u001b[0m Library veclib was not found. Ignoring\n",
            "  \u001b[31m   \u001b[0m   FOUND:\n",
            "  \u001b[31m   \u001b[0m     extra_compile_args = ['-faltivec', '-I/System/Library/Frameworks/vecLib.framework/Headers']\n",
            "  \u001b[31m   \u001b[0m     extra_link_args = ['-Wl,-framework', '-Wl,Accelerate']\n",
            "  \u001b[31m   \u001b[0m     define_macros = [('NO_ATLAS_INFO', 3), ('HAVE_CBLAS', None)]\n",
            "  \u001b[31m   \u001b[0m \n",
            "  \u001b[31m   \u001b[0m   FOUND:\n",
            "  \u001b[31m   \u001b[0m     extra_compile_args = ['-faltivec', '-I/System/Library/Frameworks/vecLib.framework/Headers']\n",
            "  \u001b[31m   \u001b[0m     extra_link_args = ['-Wl,-framework', '-Wl,Accelerate']\n",
            "  \u001b[31m   \u001b[0m     define_macros = [('NO_ATLAS_INFO', 3), ('HAVE_CBLAS', None)]\n",
            "  \u001b[31m   \u001b[0m \n",
            "  \u001b[31m   \u001b[0m /bin/sh: svnversion: command not found\n",
            "  \u001b[31m   \u001b[0m non-existing path in 'numpy/distutils': 'site.cfg'\n",
            "  \u001b[31m   \u001b[0m lapack_opt_info:\n",
            "  \u001b[31m   \u001b[0m lapack_mkl_info:\n",
            "  \u001b[31m   \u001b[0m   libraries mkl_rt not found in ['/opt/homebrew/Cellar/python@3.8/3.8.19/Frameworks/Python.framework/Versions/3.8/lib', '/usr/lib']\n",
            "  \u001b[31m   \u001b[0m   NOT AVAILABLE\n",
            "  \u001b[31m   \u001b[0m \n",
            "  \u001b[31m   \u001b[0m openblas_lapack_info:\n",
            "  \u001b[31m   \u001b[0m   libraries openblas not found in ['/opt/homebrew/Cellar/python@3.8/3.8.19/Frameworks/Python.framework/Versions/3.8/lib', '/usr/lib']\n",
            "  \u001b[31m   \u001b[0m   NOT AVAILABLE\n",
            "  \u001b[31m   \u001b[0m \n",
            "  \u001b[31m   \u001b[0m openblas_clapack_info:\n",
            "  \u001b[31m   \u001b[0m   libraries openblas,lapack not found in ['/opt/homebrew/Cellar/python@3.8/3.8.19/Frameworks/Python.framework/Versions/3.8/lib', '/usr/lib']\n",
            "  \u001b[31m   \u001b[0m   NOT AVAILABLE\n",
            "  \u001b[31m   \u001b[0m \n",
            "  \u001b[31m   \u001b[0m flame_info:\n",
            "  \u001b[31m   \u001b[0m   libraries flame not found in ['/opt/homebrew/Cellar/python@3.8/3.8.19/Frameworks/Python.framework/Versions/3.8/lib', '/usr/lib']\n",
            "  \u001b[31m   \u001b[0m   NOT AVAILABLE\n",
            "  \u001b[31m   \u001b[0m \n",
            "  \u001b[31m   \u001b[0m atlas_3_10_threads_info:\n",
            "  \u001b[31m   \u001b[0m Setting PTATLAS=ATLAS\n",
            "  \u001b[31m   \u001b[0m   libraries lapack_atlas not found in /opt/homebrew/Cellar/python@3.8/3.8.19/Frameworks/Python.framework/Versions/3.8/lib\n",
            "  \u001b[31m   \u001b[0m   libraries tatlas,tatlas not found in /opt/homebrew/Cellar/python@3.8/3.8.19/Frameworks/Python.framework/Versions/3.8/lib\n",
            "  \u001b[31m   \u001b[0m   libraries lapack_atlas not found in /usr/lib\n",
            "  \u001b[31m   \u001b[0m   libraries tatlas,tatlas not found in /usr/lib\n",
            "  \u001b[31m   \u001b[0m <class 'numpy.distutils.system_info.atlas_3_10_threads_info'>\n",
            "  \u001b[31m   \u001b[0m   NOT AVAILABLE\n",
            "  \u001b[31m   \u001b[0m \n",
            "  \u001b[31m   \u001b[0m atlas_3_10_info:\n",
            "  \u001b[31m   \u001b[0m   libraries lapack_atlas not found in /opt/homebrew/Cellar/python@3.8/3.8.19/Frameworks/Python.framework/Versions/3.8/lib\n",
            "  \u001b[31m   \u001b[0m   libraries satlas,satlas not found in /opt/homebrew/Cellar/python@3.8/3.8.19/Frameworks/Python.framework/Versions/3.8/lib\n",
            "  \u001b[31m   \u001b[0m   libraries lapack_atlas not found in /usr/lib\n",
            "  \u001b[31m   \u001b[0m   libraries satlas,satlas not found in /usr/lib\n",
            "  \u001b[31m   \u001b[0m <class 'numpy.distutils.system_info.atlas_3_10_info'>\n",
            "  \u001b[31m   \u001b[0m   NOT AVAILABLE\n",
            "  \u001b[31m   \u001b[0m \n",
            "  \u001b[31m   \u001b[0m atlas_threads_info:\n",
            "  \u001b[31m   \u001b[0m Setting PTATLAS=ATLAS\n",
            "  \u001b[31m   \u001b[0m   libraries lapack_atlas not found in /opt/homebrew/Cellar/python@3.8/3.8.19/Frameworks/Python.framework/Versions/3.8/lib\n",
            "  \u001b[31m   \u001b[0m   libraries ptf77blas,ptcblas,atlas not found in /opt/homebrew/Cellar/python@3.8/3.8.19/Frameworks/Python.framework/Versions/3.8/lib\n",
            "  \u001b[31m   \u001b[0m   libraries lapack_atlas not found in /usr/lib\n",
            "  \u001b[31m   \u001b[0m   libraries ptf77blas,ptcblas,atlas not found in /usr/lib\n",
            "  \u001b[31m   \u001b[0m <class 'numpy.distutils.system_info.atlas_threads_info'>\n",
            "  \u001b[31m   \u001b[0m   NOT AVAILABLE\n",
            "  \u001b[31m   \u001b[0m \n",
            "  \u001b[31m   \u001b[0m atlas_info:\n",
            "  \u001b[31m   \u001b[0m   libraries lapack_atlas not found in /opt/homebrew/Cellar/python@3.8/3.8.19/Frameworks/Python.framework/Versions/3.8/lib\n",
            "  \u001b[31m   \u001b[0m   libraries f77blas,cblas,atlas not found in /opt/homebrew/Cellar/python@3.8/3.8.19/Frameworks/Python.framework/Versions/3.8/lib\n",
            "  \u001b[31m   \u001b[0m   libraries lapack_atlas not found in /usr/lib\n",
            "  \u001b[31m   \u001b[0m   libraries f77blas,cblas,atlas not found in /usr/lib\n",
            "  \u001b[31m   \u001b[0m <class 'numpy.distutils.system_info.atlas_info'>\n",
            "  \u001b[31m   \u001b[0m   NOT AVAILABLE\n",
            "  \u001b[31m   \u001b[0m \n",
            "  \u001b[31m   \u001b[0m   FOUND:\n",
            "  \u001b[31m   \u001b[0m     extra_compile_args = ['-faltivec', '-I/System/Library/Frameworks/vecLib.framework/Headers']\n",
            "  \u001b[31m   \u001b[0m     extra_link_args = ['-Wl,-framework', '-Wl,Accelerate']\n",
            "  \u001b[31m   \u001b[0m     define_macros = [('NO_ATLAS_INFO', 3), ('HAVE_CBLAS', None)]\n",
            "  \u001b[31m   \u001b[0m \n",
            "  \u001b[31m   \u001b[0m running dist_info\n",
            "  \u001b[31m   \u001b[0m running build_src\n",
            "  \u001b[31m   \u001b[0m build_src\n",
            "  \u001b[31m   \u001b[0m building py_modules sources\n",
            "  \u001b[31m   \u001b[0m creating build\n",
            "  \u001b[31m   \u001b[0m creating build/src.macosx-14-arm64-3.8\n",
            "  \u001b[31m   \u001b[0m creating build/src.macosx-14-arm64-3.8/numpy\n",
            "  \u001b[31m   \u001b[0m creating build/src.macosx-14-arm64-3.8/numpy/distutils\n",
            "  \u001b[31m   \u001b[0m building library \"npymath\" sources\n",
            "  \u001b[31m   \u001b[0m Running from numpy source directory.\n",
            "  \u001b[31m   \u001b[0m <string>:425: UserWarning: Unrecognized setuptools command, proceeding with generating Cython sources and expanding templates\n",
            "  \u001b[31m   \u001b[0m /opt/homebrew/lib/python3.8/site-packages/setuptools/_distutils/dist.py:265: UserWarning: Unknown distribution option: 'define_macros'\n",
            "  \u001b[31m   \u001b[0m   warnings.warn(msg)\n",
            "  \u001b[31m   \u001b[0m Traceback (most recent call last):\n",
            "  \u001b[31m   \u001b[0m   File \"/opt/homebrew/lib/python3.8/site-packages/pip/_vendor/pyproject_hooks/_in_process/_in_process.py\", line 353, in <module>\n",
            "  \u001b[31m   \u001b[0m     main()\n",
            "  \u001b[31m   \u001b[0m   File \"/opt/homebrew/lib/python3.8/site-packages/pip/_vendor/pyproject_hooks/_in_process/_in_process.py\", line 335, in main\n",
            "  \u001b[31m   \u001b[0m     json_out['return_val'] = hook(**hook_input['kwargs'])\n",
            "  \u001b[31m   \u001b[0m   File \"/opt/homebrew/lib/python3.8/site-packages/pip/_vendor/pyproject_hooks/_in_process/_in_process.py\", line 149, in prepare_metadata_for_build_wheel\n",
            "  \u001b[31m   \u001b[0m     return hook(metadata_directory, config_settings)\n",
            "  \u001b[31m   \u001b[0m   File \"/opt/homebrew/lib/python3.8/site-packages/setuptools/build_meta.py\", line 366, in prepare_metadata_for_build_wheel\n",
            "  \u001b[31m   \u001b[0m     self.run_setup()\n",
            "  \u001b[31m   \u001b[0m   File \"/opt/homebrew/lib/python3.8/site-packages/setuptools/build_meta.py\", line 487, in run_setup\n",
            "  \u001b[31m   \u001b[0m     super().run_setup(setup_script=setup_script)\n",
            "  \u001b[31m   \u001b[0m   File \"/opt/homebrew/lib/python3.8/site-packages/setuptools/build_meta.py\", line 311, in run_setup\n",
            "  \u001b[31m   \u001b[0m     exec(code, locals())\n",
            "  \u001b[31m   \u001b[0m   File \"<string>\", line 450, in <module>\n",
            "  \u001b[31m   \u001b[0m   File \"<string>\", line 442, in setup_package\n",
            "  \u001b[31m   \u001b[0m   File \"/private/var/folders/ck/5zl9m9515fj65p11t87c50700000gn/T/pip-install-n46392ex/numpy_e6a89c8079c946729522f2bf25fec3e5/numpy/distutils/core.py\", line 171, in setup\n",
            "  \u001b[31m   \u001b[0m     return old_setup(**new_attr)\n",
            "  \u001b[31m   \u001b[0m   File \"/opt/homebrew/lib/python3.8/site-packages/setuptools/__init__.py\", line 104, in setup\n",
            "  \u001b[31m   \u001b[0m     return distutils.core.setup(**attrs)\n",
            "  \u001b[31m   \u001b[0m   File \"/opt/homebrew/lib/python3.8/site-packages/setuptools/_distutils/core.py\", line 185, in setup\n",
            "  \u001b[31m   \u001b[0m     return run_commands(dist)\n",
            "  \u001b[31m   \u001b[0m   File \"/opt/homebrew/lib/python3.8/site-packages/setuptools/_distutils/core.py\", line 201, in run_commands\n",
            "  \u001b[31m   \u001b[0m     dist.run_commands()\n",
            "  \u001b[31m   \u001b[0m   File \"/opt/homebrew/lib/python3.8/site-packages/setuptools/_distutils/dist.py\", line 969, in run_commands\n",
            "  \u001b[31m   \u001b[0m     self.run_command(cmd)\n",
            "  \u001b[31m   \u001b[0m   File \"/opt/homebrew/lib/python3.8/site-packages/setuptools/dist.py\", line 967, in run_command\n",
            "  \u001b[31m   \u001b[0m     super().run_command(command)\n",
            "  \u001b[31m   \u001b[0m   File \"/opt/homebrew/lib/python3.8/site-packages/setuptools/_distutils/dist.py\", line 988, in run_command\n",
            "  \u001b[31m   \u001b[0m     cmd_obj.run()\n",
            "  \u001b[31m   \u001b[0m   File \"/opt/homebrew/lib/python3.8/site-packages/setuptools/command/dist_info.py\", line 92, in run\n",
            "  \u001b[31m   \u001b[0m     self.egg_info.run()\n",
            "  \u001b[31m   \u001b[0m   File \"/private/var/folders/ck/5zl9m9515fj65p11t87c50700000gn/T/pip-install-n46392ex/numpy_e6a89c8079c946729522f2bf25fec3e5/numpy/distutils/command/egg_info.py\", line 26, in run\n",
            "  \u001b[31m   \u001b[0m     self.run_command(\"build_src\")\n",
            "  \u001b[31m   \u001b[0m   File \"/opt/homebrew/lib/python3.8/site-packages/setuptools/_distutils/cmd.py\", line 318, in run_command\n",
            "  \u001b[31m   \u001b[0m     self.distribution.run_command(command)\n",
            "  \u001b[31m   \u001b[0m   File \"/opt/homebrew/lib/python3.8/site-packages/setuptools/dist.py\", line 967, in run_command\n",
            "  \u001b[31m   \u001b[0m     super().run_command(command)\n",
            "  \u001b[31m   \u001b[0m   File \"/opt/homebrew/lib/python3.8/site-packages/setuptools/_distutils/dist.py\", line 988, in run_command\n",
            "  \u001b[31m   \u001b[0m     cmd_obj.run()\n",
            "  \u001b[31m   \u001b[0m   File \"/private/var/folders/ck/5zl9m9515fj65p11t87c50700000gn/T/pip-install-n46392ex/numpy_e6a89c8079c946729522f2bf25fec3e5/numpy/distutils/command/build_src.py\", line 146, in run\n",
            "  \u001b[31m   \u001b[0m     self.build_sources()\n",
            "  \u001b[31m   \u001b[0m   File \"/private/var/folders/ck/5zl9m9515fj65p11t87c50700000gn/T/pip-install-n46392ex/numpy_e6a89c8079c946729522f2bf25fec3e5/numpy/distutils/command/build_src.py\", line 157, in build_sources\n",
            "  \u001b[31m   \u001b[0m     self.build_library_sources(*libname_info)\n",
            "  \u001b[31m   \u001b[0m   File \"/private/var/folders/ck/5zl9m9515fj65p11t87c50700000gn/T/pip-install-n46392ex/numpy_e6a89c8079c946729522f2bf25fec3e5/numpy/distutils/command/build_src.py\", line 290, in build_library_sources\n",
            "  \u001b[31m   \u001b[0m     sources = self.generate_sources(sources, (lib_name, build_info))\n",
            "  \u001b[31m   \u001b[0m   File \"/private/var/folders/ck/5zl9m9515fj65p11t87c50700000gn/T/pip-install-n46392ex/numpy_e6a89c8079c946729522f2bf25fec3e5/numpy/distutils/command/build_src.py\", line 380, in generate_sources\n",
            "  \u001b[31m   \u001b[0m     source = func(extension, build_dir)\n",
            "  \u001b[31m   \u001b[0m   File \"numpy/core/setup.py\", line 656, in get_mathlib_info\n",
            "  \u001b[31m   \u001b[0m     st = config_cmd.try_link('int main(void) { return 0;}')\n",
            "  \u001b[31m   \u001b[0m   File \"/opt/homebrew/lib/python3.8/site-packages/setuptools/_distutils/command/config.py\", line 247, in try_link\n",
            "  \u001b[31m   \u001b[0m     self._check_compiler()\n",
            "  \u001b[31m   \u001b[0m   File \"/private/var/folders/ck/5zl9m9515fj65p11t87c50700000gn/T/pip-install-n46392ex/numpy_e6a89c8079c946729522f2bf25fec3e5/numpy/distutils/command/config.py\", line 82, in _check_compiler\n",
            "  \u001b[31m   \u001b[0m     self.fcompiler = new_fcompiler(compiler=self.fcompiler,\n",
            "  \u001b[31m   \u001b[0m   File \"/private/var/folders/ck/5zl9m9515fj65p11t87c50700000gn/T/pip-install-n46392ex/numpy_e6a89c8079c946729522f2bf25fec3e5/numpy/distutils/fcompiler/__init__.py\", line 884, in new_fcompiler\n",
            "  \u001b[31m   \u001b[0m     compiler = get_default_fcompiler(plat, requiref90=requiref90,\n",
            "  \u001b[31m   \u001b[0m   File \"/private/var/folders/ck/5zl9m9515fj65p11t87c50700000gn/T/pip-install-n46392ex/numpy_e6a89c8079c946729522f2bf25fec3e5/numpy/distutils/fcompiler/__init__.py\", line 855, in get_default_fcompiler\n",
            "  \u001b[31m   \u001b[0m     compiler_type =  _find_existing_fcompiler(matching_compiler_types,\n",
            "  \u001b[31m   \u001b[0m   File \"/private/var/folders/ck/5zl9m9515fj65p11t87c50700000gn/T/pip-install-n46392ex/numpy_e6a89c8079c946729522f2bf25fec3e5/numpy/distutils/fcompiler/__init__.py\", line 806, in _find_existing_fcompiler\n",
            "  \u001b[31m   \u001b[0m     c.customize(dist)\n",
            "  \u001b[31m   \u001b[0m   File \"/private/var/folders/ck/5zl9m9515fj65p11t87c50700000gn/T/pip-install-n46392ex/numpy_e6a89c8079c946729522f2bf25fec3e5/numpy/distutils/fcompiler/__init__.py\", line 530, in customize\n",
            "  \u001b[31m   \u001b[0m     linker_so_flags = self.flag_vars.linker_so\n",
            "  \u001b[31m   \u001b[0m   File \"/private/var/folders/ck/5zl9m9515fj65p11t87c50700000gn/T/pip-install-n46392ex/numpy_e6a89c8079c946729522f2bf25fec3e5/numpy/distutils/fcompiler/environment.py\", line 40, in __getattr__\n",
            "  \u001b[31m   \u001b[0m     return self._get_var(name, conf_desc)\n",
            "  \u001b[31m   \u001b[0m   File \"/private/var/folders/ck/5zl9m9515fj65p11t87c50700000gn/T/pip-install-n46392ex/numpy_e6a89c8079c946729522f2bf25fec3e5/numpy/distutils/fcompiler/environment.py\", line 56, in _get_var\n",
            "  \u001b[31m   \u001b[0m     var = self._hook_handler(name, hook)\n",
            "  \u001b[31m   \u001b[0m   File \"/private/var/folders/ck/5zl9m9515fj65p11t87c50700000gn/T/pip-install-n46392ex/numpy_e6a89c8079c946729522f2bf25fec3e5/numpy/distutils/fcompiler/__init__.py\", line 709, in _environment_hook\n",
            "  \u001b[31m   \u001b[0m     return hook()\n",
            "  \u001b[31m   \u001b[0m   File \"/private/var/folders/ck/5zl9m9515fj65p11t87c50700000gn/T/pip-install-n46392ex/numpy_e6a89c8079c946729522f2bf25fec3e5/numpy/distutils/fcompiler/gnu.py\", line 353, in get_flags_linker_so\n",
            "  \u001b[31m   \u001b[0m     flags = GnuFCompiler.get_flags_linker_so(self)\n",
            "  \u001b[31m   \u001b[0m   File \"/private/var/folders/ck/5zl9m9515fj65p11t87c50700000gn/T/pip-install-n46392ex/numpy_e6a89c8079c946729522f2bf25fec3e5/numpy/distutils/fcompiler/gnu.py\", line 144, in get_flags_linker_so\n",
            "  \u001b[31m   \u001b[0m     os.environ['MACOSX_DEPLOYMENT_TARGET'] = target\n",
            "  \u001b[31m   \u001b[0m   File \"/opt/homebrew/Cellar/python@3.8/3.8.19/Frameworks/Python.framework/Versions/3.8/lib/python3.8/os.py\", line 680, in __setitem__\n",
            "  \u001b[31m   \u001b[0m     value = self.encodevalue(value)\n",
            "  \u001b[31m   \u001b[0m   File \"/opt/homebrew/Cellar/python@3.8/3.8.19/Frameworks/Python.framework/Versions/3.8/lib/python3.8/os.py\", line 750, in encode\n",
            "  \u001b[31m   \u001b[0m     raise TypeError(\"str expected, not %s\" % type(value).__name__)\n",
            "  \u001b[31m   \u001b[0m TypeError: str expected, not int\n",
            "  \u001b[31m   \u001b[0m \u001b[31m[end of output]\u001b[0m\n",
            "  \n",
            "  \u001b[1;35mnote\u001b[0m: This error originates from a subprocess, and is likely not a problem with pip.\n",
            "\u001b[1;31merror\u001b[0m: \u001b[1mmetadata-generation-failed\u001b[0m\n",
            "\n",
            "\u001b[31m×\u001b[0m Encountered error while generating package metadata.\n",
            "\u001b[31m╰─>\u001b[0m See above for output.\n",
            "\n",
            "\u001b[1;35mnote\u001b[0m: This is an issue with the package mentioned above, not pip.\n",
            "\u001b[1;36mhint\u001b[0m: See above for details.\n",
            "\u001b[?25h\u001b[33mDEPRECATION: Configuring installation scheme with distutils config files is deprecated and will no longer work in the near future. If you are using a Homebrew or Linuxbrew Python, please see discussion at https://github.com/Homebrew/homebrew-core/issues/76621\u001b[0m\u001b[33m\n",
            "\u001b[0mRequirement already satisfied: pip in /opt/homebrew/lib/python3.8/site-packages (24.0)\n",
            "Requirement already satisfied: setuptools in /opt/homebrew/lib/python3.8/site-packages (69.2.0)\n",
            "Requirement already satisfied: wheel in /opt/homebrew/lib/python3.8/site-packages (0.43.0)\n",
            "\u001b[33mDEPRECATION: Configuring installation scheme with distutils config files is deprecated and will no longer work in the near future. If you are using a Homebrew or Linuxbrew Python, please see discussion at https://github.com/Homebrew/homebrew-core/issues/76621\u001b[0m\u001b[33m\n",
            "\u001b[0m"
          ]
        }
      ]
    },
    {
      "cell_type": "code",
      "source": [
        "!pip3.8 install textattack"
      ],
      "metadata": {
        "id": "a4bqH_gd2vel",
        "colab": {
          "base_uri": "https://localhost:8080/"
        },
        "outputId": "2d742617-83db-475b-bfcc-f71213aca695"
      },
      "execution_count": null,
      "outputs": [
        {
          "output_type": "stream",
          "name": "stdout",
          "text": [
            "\u001b[33mDEPRECATION: Configuring installation scheme with distutils config files is deprecated and will no longer work in the near future. If you are using a Homebrew or Linuxbrew Python, please see discussion at https://github.com/Homebrew/homebrew-core/issues/76621\u001b[0m\u001b[33m\n",
            "\u001b[0mRequirement already satisfied: textattack in /opt/homebrew/lib/python3.8/site-packages (0.3.10)\n",
            "Requirement already satisfied: bert-score>=0.3.5 in /opt/homebrew/lib/python3.8/site-packages (from textattack) (0.3.13)\n",
            "Requirement already satisfied: editdistance in /opt/homebrew/lib/python3.8/site-packages (from textattack) (0.8.1)\n",
            "Requirement already satisfied: flair in /opt/homebrew/lib/python3.8/site-packages (from textattack) (0.13.1)\n",
            "Requirement already satisfied: filelock in /opt/homebrew/lib/python3.8/site-packages (from textattack) (3.13.1)\n",
            "Requirement already satisfied: language-tool-python in /opt/homebrew/lib/python3.8/site-packages (from textattack) (2.7.3)\n",
            "Requirement already satisfied: lemminflect in /opt/homebrew/lib/python3.8/site-packages (from textattack) (0.2.3)\n",
            "Requirement already satisfied: lru-dict in /opt/homebrew/lib/python3.8/site-packages (from textattack) (1.3.0)\n",
            "Requirement already satisfied: datasets>=2.4.0 in /opt/homebrew/lib/python3.8/site-packages (from textattack) (2.18.0)\n",
            "Requirement already satisfied: nltk in /opt/homebrew/lib/python3.8/site-packages (from textattack) (3.8.1)\n",
            "Requirement already satisfied: numpy>=1.21.0 in /opt/homebrew/lib/python3.8/site-packages (from textattack) (1.24.4)\n",
            "Requirement already satisfied: pandas>=1.0.1 in /opt/homebrew/lib/python3.8/site-packages (from textattack) (2.0.3)\n",
            "Requirement already satisfied: scipy>=1.4.1 in /opt/homebrew/lib/python3.8/site-packages (from textattack) (1.10.1)\n",
            "Requirement already satisfied: torch!=1.8,>=1.7.0 in /opt/homebrew/lib/python3.8/site-packages (from textattack) (2.2.1)\n",
            "Requirement already satisfied: transformers>=4.30.0 in /opt/homebrew/lib/python3.8/site-packages (from textattack) (4.39.0)\n",
            "Requirement already satisfied: terminaltables in /opt/homebrew/lib/python3.8/site-packages (from textattack) (3.1.10)\n",
            "Requirement already satisfied: tqdm in /opt/homebrew/lib/python3.8/site-packages (from textattack) (4.66.2)\n",
            "Requirement already satisfied: word2number in /opt/homebrew/lib/python3.8/site-packages (from textattack) (1.1)\n",
            "Requirement already satisfied: num2words in /opt/homebrew/lib/python3.8/site-packages (from textattack) (0.5.13)\n",
            "Requirement already satisfied: more-itertools in /opt/homebrew/lib/python3.8/site-packages (from textattack) (10.2.0)\n",
            "Requirement already satisfied: pinyin>=0.4.0 in /opt/homebrew/lib/python3.8/site-packages (from textattack) (0.4.0)\n",
            "Requirement already satisfied: jieba in /opt/homebrew/lib/python3.8/site-packages (from textattack) (0.42.1)\n",
            "Requirement already satisfied: OpenHowNet in /opt/homebrew/lib/python3.8/site-packages (from textattack) (2.0)\n",
            "Requirement already satisfied: requests in /opt/homebrew/lib/python3.8/site-packages (from bert-score>=0.3.5->textattack) (2.31.0)\n",
            "Requirement already satisfied: matplotlib in /opt/homebrew/lib/python3.8/site-packages (from bert-score>=0.3.5->textattack) (3.7.5)\n",
            "Requirement already satisfied: packaging>=20.9 in /opt/homebrew/lib/python3.8/site-packages (from bert-score>=0.3.5->textattack) (24.0)\n",
            "Requirement already satisfied: pyarrow>=12.0.0 in /opt/homebrew/lib/python3.8/site-packages (from datasets>=2.4.0->textattack) (15.0.2)\n",
            "Requirement already satisfied: pyarrow-hotfix in /opt/homebrew/lib/python3.8/site-packages (from datasets>=2.4.0->textattack) (0.6)\n",
            "Requirement already satisfied: dill<0.3.9,>=0.3.0 in /opt/homebrew/lib/python3.8/site-packages (from datasets>=2.4.0->textattack) (0.3.8)\n",
            "Requirement already satisfied: xxhash in /opt/homebrew/lib/python3.8/site-packages (from datasets>=2.4.0->textattack) (3.4.1)\n",
            "Requirement already satisfied: multiprocess in /opt/homebrew/lib/python3.8/site-packages (from datasets>=2.4.0->textattack) (0.70.16)\n",
            "Requirement already satisfied: fsspec<=2024.2.0,>=2023.1.0 in /opt/homebrew/lib/python3.8/site-packages (from fsspec[http]<=2024.2.0,>=2023.1.0->datasets>=2.4.0->textattack) (2024.2.0)\n",
            "Requirement already satisfied: aiohttp in /opt/homebrew/lib/python3.8/site-packages (from datasets>=2.4.0->textattack) (3.9.3)\n",
            "Requirement already satisfied: huggingface-hub>=0.19.4 in /opt/homebrew/lib/python3.8/site-packages (from datasets>=2.4.0->textattack) (0.21.4)\n",
            "Requirement already satisfied: pyyaml>=5.1 in /opt/homebrew/lib/python3.8/site-packages (from datasets>=2.4.0->textattack) (6.0.1)\n",
            "Requirement already satisfied: python-dateutil>=2.8.2 in /opt/homebrew/lib/python3.8/site-packages (from pandas>=1.0.1->textattack) (2.9.0.post0)\n",
            "Requirement already satisfied: pytz>=2020.1 in /opt/homebrew/lib/python3.8/site-packages (from pandas>=1.0.1->textattack) (2024.1)\n",
            "Requirement already satisfied: tzdata>=2022.1 in /opt/homebrew/lib/python3.8/site-packages (from pandas>=1.0.1->textattack) (2024.1)\n",
            "Requirement already satisfied: typing-extensions>=4.8.0 in /opt/homebrew/lib/python3.8/site-packages (from torch!=1.8,>=1.7.0->textattack) (4.10.0)\n",
            "Requirement already satisfied: sympy in /opt/homebrew/lib/python3.8/site-packages (from torch!=1.8,>=1.7.0->textattack) (1.12)\n",
            "Requirement already satisfied: networkx in /opt/homebrew/lib/python3.8/site-packages (from torch!=1.8,>=1.7.0->textattack) (3.1)\n",
            "Requirement already satisfied: jinja2 in /opt/homebrew/lib/python3.8/site-packages (from torch!=1.8,>=1.7.0->textattack) (3.1.3)\n",
            "Requirement already satisfied: regex!=2019.12.17 in /opt/homebrew/lib/python3.8/site-packages (from transformers>=4.30.0->textattack) (2023.12.25)\n",
            "Requirement already satisfied: tokenizers<0.19,>=0.14 in /opt/homebrew/lib/python3.8/site-packages (from transformers>=4.30.0->textattack) (0.15.2)\n",
            "Requirement already satisfied: safetensors>=0.4.1 in /opt/homebrew/lib/python3.8/site-packages (from transformers>=4.30.0->textattack) (0.4.2)\n",
            "Requirement already satisfied: boto3>=1.20.27 in /opt/homebrew/lib/python3.8/site-packages (from flair->textattack) (1.34.67)\n",
            "Requirement already satisfied: bpemb>=0.3.2 in /opt/homebrew/lib/python3.8/site-packages (from flair->textattack) (0.3.5)\n",
            "Requirement already satisfied: conllu>=4.0 in /opt/homebrew/lib/python3.8/site-packages (from flair->textattack) (4.5.3)\n",
            "Requirement already satisfied: deprecated>=1.2.13 in /opt/homebrew/lib/python3.8/site-packages (from flair->textattack) (1.2.14)\n",
            "Requirement already satisfied: ftfy>=6.1.0 in /opt/homebrew/lib/python3.8/site-packages (from flair->textattack) (6.2.0)\n",
            "Requirement already satisfied: gdown>=4.4.0 in /opt/homebrew/lib/python3.8/site-packages (from flair->textattack) (5.1.0)\n",
            "Requirement already satisfied: gensim>=4.2.0 in /opt/homebrew/lib/python3.8/site-packages (from flair->textattack) (4.3.2)\n",
            "Requirement already satisfied: janome>=0.4.2 in /opt/homebrew/lib/python3.8/site-packages (from flair->textattack) (0.5.0)\n",
            "Requirement already satisfied: langdetect>=1.0.9 in /opt/homebrew/lib/python3.8/site-packages (from flair->textattack) (1.0.9)\n",
            "Requirement already satisfied: lxml>=4.8.0 in /opt/homebrew/lib/python3.8/site-packages (from flair->textattack) (5.1.0)\n",
            "Requirement already satisfied: mpld3>=0.3 in /opt/homebrew/lib/python3.8/site-packages (from flair->textattack) (0.5.10)\n",
            "Requirement already satisfied: pptree>=3.1 in /opt/homebrew/lib/python3.8/site-packages (from flair->textattack) (3.1)\n",
            "Requirement already satisfied: pytorch-revgrad>=0.2.0 in /opt/homebrew/lib/python3.8/site-packages (from flair->textattack) (0.2.0)\n",
            "Requirement already satisfied: scikit-learn>=1.0.2 in /opt/homebrew/lib/python3.8/site-packages (from flair->textattack) (1.3.2)\n",
            "Requirement already satisfied: segtok>=1.5.11 in /opt/homebrew/lib/python3.8/site-packages (from flair->textattack) (1.5.11)\n",
            "Requirement already satisfied: sqlitedict>=2.0.0 in /opt/homebrew/lib/python3.8/site-packages (from flair->textattack) (2.1.0)\n",
            "Requirement already satisfied: tabulate>=0.8.10 in /opt/homebrew/lib/python3.8/site-packages (from flair->textattack) (0.9.0)\n",
            "Requirement already satisfied: transformer-smaller-training-vocab>=0.2.3 in /opt/homebrew/lib/python3.8/site-packages (from flair->textattack) (0.3.3)\n",
            "Requirement already satisfied: urllib3<2.0.0,>=1.0.0 in /opt/homebrew/lib/python3.8/site-packages (from flair->textattack) (1.26.18)\n",
            "Requirement already satisfied: wikipedia-api>=0.5.7 in /opt/homebrew/lib/python3.8/site-packages (from flair->textattack) (0.6.0)\n",
            "Requirement already satisfied: semver<4.0.0,>=3.0.0 in /opt/homebrew/lib/python3.8/site-packages (from flair->textattack) (3.0.2)\n",
            "Requirement already satisfied: click in /opt/homebrew/lib/python3.8/site-packages (from nltk->textattack) (8.1.7)\n",
            "Requirement already satisfied: joblib in /opt/homebrew/lib/python3.8/site-packages (from nltk->textattack) (1.3.2)\n",
            "Requirement already satisfied: docopt>=0.6.2 in /opt/homebrew/lib/python3.8/site-packages (from num2words->textattack) (0.6.2)\n",
            "Requirement already satisfied: anytree in /opt/homebrew/lib/python3.8/site-packages (from OpenHowNet->textattack) (2.12.1)\n",
            "Requirement already satisfied: setuptools in /opt/homebrew/lib/python3.8/site-packages (from OpenHowNet->textattack) (69.2.0)\n",
            "Requirement already satisfied: botocore<1.35.0,>=1.34.67 in /opt/homebrew/lib/python3.8/site-packages (from boto3>=1.20.27->flair->textattack) (1.34.67)\n",
            "Requirement already satisfied: jmespath<2.0.0,>=0.7.1 in /opt/homebrew/lib/python3.8/site-packages (from boto3>=1.20.27->flair->textattack) (1.0.1)\n",
            "Requirement already satisfied: s3transfer<0.11.0,>=0.10.0 in /opt/homebrew/lib/python3.8/site-packages (from boto3>=1.20.27->flair->textattack) (0.10.1)\n",
            "Requirement already satisfied: sentencepiece in /opt/homebrew/lib/python3.8/site-packages (from bpemb>=0.3.2->flair->textattack) (0.1.99)\n",
            "Requirement already satisfied: wrapt<2,>=1.10 in /opt/homebrew/lib/python3.8/site-packages (from deprecated>=1.2.13->flair->textattack) (1.16.0)\n",
            "Requirement already satisfied: aiosignal>=1.1.2 in /opt/homebrew/lib/python3.8/site-packages (from aiohttp->datasets>=2.4.0->textattack) (1.3.1)\n",
            "Requirement already satisfied: attrs>=17.3.0 in /opt/homebrew/lib/python3.8/site-packages (from aiohttp->datasets>=2.4.0->textattack) (23.2.0)\n",
            "Requirement already satisfied: frozenlist>=1.1.1 in /opt/homebrew/lib/python3.8/site-packages (from aiohttp->datasets>=2.4.0->textattack) (1.4.1)\n",
            "Requirement already satisfied: multidict<7.0,>=4.5 in /opt/homebrew/lib/python3.8/site-packages (from aiohttp->datasets>=2.4.0->textattack) (6.0.5)\n",
            "Requirement already satisfied: yarl<2.0,>=1.0 in /opt/homebrew/lib/python3.8/site-packages (from aiohttp->datasets>=2.4.0->textattack) (1.9.4)\n",
            "Requirement already satisfied: async-timeout<5.0,>=4.0 in /opt/homebrew/lib/python3.8/site-packages (from aiohttp->datasets>=2.4.0->textattack) (4.0.3)\n",
            "Requirement already satisfied: wcwidth<0.3.0,>=0.2.12 in /opt/homebrew/lib/python3.8/site-packages (from ftfy>=6.1.0->flair->textattack) (0.2.13)\n",
            "Requirement already satisfied: beautifulsoup4 in /opt/homebrew/lib/python3.8/site-packages (from gdown>=4.4.0->flair->textattack) (4.12.3)\n",
            "Requirement already satisfied: smart-open>=1.8.1 in /opt/homebrew/lib/python3.8/site-packages (from gensim>=4.2.0->flair->textattack) (6.4.0)\n",
            "Requirement already satisfied: six in /opt/homebrew/lib/python3.8/site-packages (from langdetect>=1.0.9->flair->textattack) (1.16.0)\n",
            "Requirement already satisfied: contourpy>=1.0.1 in /opt/homebrew/lib/python3.8/site-packages (from matplotlib->bert-score>=0.3.5->textattack) (1.1.1)\n",
            "Requirement already satisfied: cycler>=0.10 in /opt/homebrew/lib/python3.8/site-packages (from matplotlib->bert-score>=0.3.5->textattack) (0.12.1)\n",
            "Requirement already satisfied: fonttools>=4.22.0 in /opt/homebrew/lib/python3.8/site-packages (from matplotlib->bert-score>=0.3.5->textattack) (4.50.0)\n",
            "Requirement already satisfied: kiwisolver>=1.0.1 in /opt/homebrew/lib/python3.8/site-packages (from matplotlib->bert-score>=0.3.5->textattack) (1.4.5)\n",
            "Requirement already satisfied: pillow>=6.2.0 in /opt/homebrew/lib/python3.8/site-packages (from matplotlib->bert-score>=0.3.5->textattack) (10.2.0)\n",
            "Requirement already satisfied: pyparsing>=2.3.1 in /opt/homebrew/lib/python3.8/site-packages (from matplotlib->bert-score>=0.3.5->textattack) (3.1.2)\n",
            "Requirement already satisfied: importlib-resources>=3.2.0 in /opt/homebrew/lib/python3.8/site-packages (from matplotlib->bert-score>=0.3.5->textattack) (6.3.2)\n",
            "Requirement already satisfied: charset-normalizer<4,>=2 in /opt/homebrew/lib/python3.8/site-packages (from requests->bert-score>=0.3.5->textattack) (3.3.2)\n",
            "Requirement already satisfied: idna<4,>=2.5 in /opt/homebrew/lib/python3.8/site-packages (from requests->bert-score>=0.3.5->textattack) (3.6)\n",
            "Requirement already satisfied: certifi>=2017.4.17 in /opt/homebrew/lib/python3.8/site-packages (from requests->bert-score>=0.3.5->textattack) (2024.2.2)\n",
            "Requirement already satisfied: threadpoolctl>=2.0.0 in /opt/homebrew/lib/python3.8/site-packages (from scikit-learn>=1.0.2->flair->textattack) (3.4.0)\n",
            "Requirement already satisfied: protobuf in /opt/homebrew/lib/python3.8/site-packages (from transformers[sentencepiece]<5.0.0,>=4.18.0->flair->textattack) (5.26.0)\n",
            "Requirement already satisfied: MarkupSafe>=2.0 in /opt/homebrew/lib/python3.8/site-packages (from jinja2->torch!=1.8,>=1.7.0->textattack) (2.1.5)\n",
            "Requirement already satisfied: mpmath>=0.19 in /opt/homebrew/lib/python3.8/site-packages (from sympy->torch!=1.8,>=1.7.0->textattack) (1.3.0)\n",
            "Requirement already satisfied: zipp>=3.1.0 in /opt/homebrew/lib/python3.8/site-packages (from importlib-resources>=3.2.0->matplotlib->bert-score>=0.3.5->textattack) (3.18.1)\n",
            "Requirement already satisfied: accelerate>=0.21.0 in /opt/homebrew/lib/python3.8/site-packages (from transformers[torch]<5.0,>=4.1->transformer-smaller-training-vocab>=0.2.3->flair->textattack) (0.28.0)\n",
            "Requirement already satisfied: soupsieve>1.2 in /opt/homebrew/lib/python3.8/site-packages (from beautifulsoup4->gdown>=4.4.0->flair->textattack) (2.5)\n",
            "Requirement already satisfied: PySocks!=1.5.7,>=1.5.6 in /opt/homebrew/lib/python3.8/site-packages (from requests[socks]->gdown>=4.4.0->flair->textattack) (1.7.1)\n",
            "Requirement already satisfied: psutil in /opt/homebrew/lib/python3.8/site-packages (from accelerate>=0.21.0->transformers[torch]<5.0,>=4.1->transformer-smaller-training-vocab>=0.2.3->flair->textattack) (5.9.8)\n",
            "\u001b[33mDEPRECATION: Configuring installation scheme with distutils config files is deprecated and will no longer work in the near future. If you are using a Homebrew or Linuxbrew Python, please see discussion at https://github.com/Homebrew/homebrew-core/issues/76621\u001b[0m\u001b[33m\n",
            "\u001b[0m"
          ]
        }
      ]
    },
    {
      "cell_type": "code",
      "source": [
        "!pip3.8 install --upgrade --force-reinstall dlib"
      ],
      "metadata": {
        "id": "qN_NNIzs-PHy",
        "colab": {
          "base_uri": "https://localhost:8080/"
        },
        "outputId": "6fb628da-72da-4afa-8df4-df1907ec78cd"
      },
      "execution_count": null,
      "outputs": [
        {
          "output_type": "stream",
          "name": "stdout",
          "text": [
            "\u001b[33mDEPRECATION: Configuring installation scheme with distutils config files is deprecated and will no longer work in the near future. If you are using a Homebrew or Linuxbrew Python, please see discussion at https://github.com/Homebrew/homebrew-core/issues/76621\u001b[0m\u001b[33m\n",
            "\u001b[0mCollecting dlib\n",
            "  Using cached dlib-19.24.2-cp38-cp38-macosx_14_0_arm64.whl\n",
            "Installing collected packages: dlib\n",
            "  Attempting uninstall: dlib\n",
            "    Found existing installation: dlib 19.24.2\n",
            "    Uninstalling dlib-19.24.2:\n",
            "      Successfully uninstalled dlib-19.24.2\n",
            "\u001b[33m  DEPRECATION: Configuring installation scheme with distutils config files is deprecated and will no longer work in the near future. If you are using a Homebrew or Linuxbrew Python, please see discussion at https://github.com/Homebrew/homebrew-core/issues/76621\u001b[0m\u001b[33m\n",
            "\u001b[0m\u001b[33mDEPRECATION: Configuring installation scheme with distutils config files is deprecated and will no longer work in the near future. If you are using a Homebrew or Linuxbrew Python, please see discussion at https://github.com/Homebrew/homebrew-core/issues/76621\u001b[0m\u001b[33m\n",
            "\u001b[0mSuccessfully installed dlib-19.24.2\n"
          ]
        }
      ]
    },
    {
      "cell_type": "code",
      "source": [
        "import nltk\n",
        "nltk.download('stopwords')"
      ],
      "metadata": {
        "colab": {
          "base_uri": "https://localhost:8080/"
        },
        "id": "c1QJ39e02WFo",
        "outputId": "2d09b34e-afa3-4c4f-9836-2b4d33a6b1cf"
      },
      "execution_count": null,
      "outputs": [
        {
          "output_type": "stream",
          "name": "stderr",
          "text": [
            "[nltk_data] Downloading package stopwords to /Users/seb/nltk_data...\n",
            "[nltk_data]   Package stopwords is already up-to-date!\n"
          ]
        },
        {
          "output_type": "execute_result",
          "data": {
            "text/plain": [
              "True"
            ]
          },
          "metadata": {},
          "execution_count": 383
        }
      ]
    },
    {
      "cell_type": "code",
      "source": [
        "import textattack"
      ],
      "metadata": {
        "id": "gWKGTjXF4RWx"
      },
      "execution_count": null,
      "outputs": []
    },
    {
      "cell_type": "markdown",
      "source": [
        "## Basic Augmenter\n",
        "Some of the code below is lifted from the textattack docs"
      ],
      "metadata": {
        "id": "N7hfIT42R2_F"
      }
    },
    {
      "cell_type": "code",
      "source": [
        "from textattack.augmentation import EmbeddingAugmenter\n",
        "augmenter = EmbeddingAugmenter()\n",
        "s = 'Hello my friend, what is your mission?'\n",
        "augmenter.augment(s)"
      ],
      "metadata": {
        "id": "96mYFib83vaN"
      },
      "execution_count": null,
      "outputs": []
    },
    {
      "cell_type": "code",
      "source": [
        "from textattack.augmentation import CheckListAugmenter\n",
        "cl = CheckListAugmenter(pct_words_to_swap=0.2, transformations_per_example=5)\n",
        "cl.augment(s)"
      ],
      "metadata": {
        "id": "mgxyPdc7Aele"
      },
      "execution_count": null,
      "outputs": []
    },
    {
      "cell_type": "markdown",
      "source": [
        "## Typo Injection"
      ],
      "metadata": {
        "id": "WoOt3qDDGF6X"
      }
    },
    {
      "cell_type": "code",
      "source": [
        "from sklearn.feature_extraction.text import CountVectorizer, ENGLISH_STOP_WORDS\n",
        "from sklearn import preprocessing\n",
        "from sklearn.feature_extraction.text import TfidfVectorizer\n",
        "from sklearn.linear_model import LogisticRegression\n",
        "from sklearn.metrics import classification_report\n",
        "from sklearn.model_selection import train_test_split"
      ],
      "metadata": {
        "id": "kyvVrVhOQ6h5"
      },
      "execution_count": null,
      "outputs": []
    },
    {
      "cell_type": "code",
      "source": [
        "from textattack.attack_recipes import pruthi_2019"
      ],
      "metadata": {
        "id": "7ei46eRMGLe_"
      },
      "execution_count": null,
      "outputs": []
    },
    {
      "cell_type": "code",
      "source": [
        "from textattack.models.wrappers import SklearnModelWrapper\n",
        "model_wrapper = SklearnModelWrapper(model,model_fit)"
      ],
      "metadata": {
        "id": "8MuneFSKMW_9"
      },
      "execution_count": null,
      "outputs": []
    },
    {
      "cell_type": "code",
      "source": [
        "goal_function = textattack.goal_functions.UntargetedClassification(model_wrapper)\n",
        "attack = pruthi_2019.Pruthi2019.build(model_wrapper)"
      ],
      "metadata": {
        "colab": {
          "base_uri": "https://localhost:8080/"
        },
        "id": "os6ED0t5Nqx3",
        "outputId": "73887c9f-3e03-49e0-d1ad-755c59dfd6f5"
      },
      "execution_count": null,
      "outputs": [
        {
          "output_type": "stream",
          "name": "stderr",
          "text": [
            "textattack: Unknown if model of class <class 'sklearn.ensemble._forest.RandomForestClassifier'> compatible with goal function <class 'textattack.goal_functions.classification.untargeted_classification.UntargetedClassification'>.\n",
            "textattack: Unknown if model of class <class 'sklearn.ensemble._forest.RandomForestClassifier'> compatible with goal function <class 'textattack.goal_functions.classification.untargeted_classification.UntargetedClassification'>.\n"
          ]
        }
      ]
    },
    {
      "cell_type": "code",
      "source": [
        "def transform_cvect(training, testing, column_name):\n",
        "    vect = CountVectorizer(\n",
        "        max_features=100, ngram_range=(1, 3), stop_words=list(ENGLISH_STOP_WORDS)\n",
        "    )\n",
        "    vectFit = vect.fit(training[column_name])\n",
        "    cvect_training = vectFit.transform(training[column_name])\n",
        "    cvect_training_df = pd.DataFrame(\n",
        "        cvect_training.toarray(), columns=vect.get_feature_names_out()\n",
        "    )\n",
        "    cvect_testing = vectFit.transform(testing[column_name])\n",
        "    cvect_testing_df = pd.DataFrame(\n",
        "        cvect_testing.toarray(), columns=vect.get_feature_names_out()\n",
        "    )\n",
        "    return vectFit, cvect_training_df, cvect_testing_df"
      ],
      "metadata": {
        "id": "HwhmjVBzRDAE"
      },
      "execution_count": null,
      "outputs": []
    },
    {
      "cell_type": "code",
      "source": [
        "def transform_tfidf(training, testing, column_name):\n",
        "    Tfidf = TfidfVectorizer(\n",
        "        ngram_range=(1, 3), max_features=100, stop_words=list(ENGLISH_STOP_WORDS)\n",
        "    )\n",
        "    Tfidf_fit = Tfidf.fit(training[column_name])\n",
        "    Tfidf_training = Tfidf_fit.transform(training[column_name])\n",
        "    Tfidf_training_df = pd.DataFrame(\n",
        "        Tfidf_training.toarray(), columns=Tfidf.get_feature_names()\n",
        "    )\n",
        "    Tfidf_testing = Tfidf_fit.transform(testing[column_name])\n",
        "    Tfidf_testing_df = pd.DataFrame(\n",
        "        Tfidf_testing.toarray(), columns=Tfidf.get_feature_names()\n",
        "    )\n",
        "    return Tfidf_fit, Tfidf_training_df, Tfidf_testing_df"
      ],
      "metadata": {
        "id": "uiHNQe_hQabV"
      },
      "execution_count": null,
      "outputs": []
    },
    {
      "cell_type": "code",
      "source": [
        "def build_example_model(X_train, y_train, X_test, y_test, name_of_test):\n",
        "\n",
        "    rf = RandomForestClassifier(max_depth=4).fit(X_train, y_train)\n",
        "    y_pred = rf.predict(X_test)\n",
        "    print(\n",
        "        \"Training accuracy of \" + name_of_test + \": \", rf.score(X_train, y_train)\n",
        "    )\n",
        "    print(\"Testing accuracy of \" + name_of_test + \": \", rf.score(X_test, y_test))\n",
        "    print(classification_report(y_test, y_pred))\n",
        "    return rf"
      ],
      "metadata": {
        "id": "tK5VnkhTWgiu"
      },
      "execution_count": null,
      "outputs": []
    },
    {
      "cell_type": "code",
      "source": [
        "text_train, text_test = train_test_split(df)"
      ],
      "metadata": {
        "id": "KIC_tNbZPwQw"
      },
      "execution_count": null,
      "outputs": []
    },
    {
      "cell_type": "code",
      "source": [
        "cvectFit, cvect_training_df, cvect_testing_df = transform_cvect(text_train,text_test,'review_text')"
      ],
      "metadata": {
        "id": "Xlk-lMMdVJpi"
      },
      "execution_count": null,
      "outputs": []
    },
    {
      "cell_type": "code",
      "source": [
        "example_model = build_example_model(text_train,text_train['fit'],text_test,text_test['fit'],'test')"
      ],
      "metadata": {
        "id": "Aa0szvZwW9tB"
      },
      "execution_count": null,
      "outputs": []
    },
    {
      "cell_type": "markdown",
      "source": [
        "## Typo Injection (Manual)"
      ],
      "metadata": {
        "id": "qD2uxF9obVGd"
      }
    },
    {
      "cell_type": "code",
      "source": [
        "import random"
      ],
      "metadata": {
        "id": "Qs2FL5_Ub3eu"
      },
      "execution_count": null,
      "outputs": []
    },
    {
      "cell_type": "code",
      "source": [
        "revs = df['review_text']\n",
        "revs"
      ],
      "metadata": {
        "colab": {
          "base_uri": "https://localhost:8080/"
        },
        "id": "orqVGbdUbZUv",
        "outputId": "49a3572b-e314-4dde-f97d-a9cddfc21422"
      },
      "execution_count": null,
      "outputs": [
        {
          "output_type": "execute_result",
          "data": {
            "text/plain": [
              "0         An adorable romper! Belt and zipper were a lit...\n",
              "1         I rented this dress for a photo shoot. The the...\n",
              "2         This hugged in all the right places! It was a ...\n",
              "3         I rented this for my company's black tie award...\n",
              "4         I have always been petite in my upper body and...\n",
              "                                ...                        \n",
              "192539                                    Fit like a glove!\n",
              "192540    The pattern contrast on this dress is really s...\n",
              "192541    Like the other DVF wraps, the fit on this is f...\n",
              "192542    This dress was PERFECTION.  it looked incredib...\n",
              "192543    This dress was wonderful! I had originally pla...\n",
              "Name: review_text, Length: 192544, dtype: object"
            ]
          },
          "metadata": {},
          "execution_count": 116
        }
      ]
    },
    {
      "cell_type": "code",
      "source": [
        "def inject_typo_naive(text, prob=0.1):\n",
        "    typo_text = \"\"\n",
        "    for char in text:\n",
        "        if random.random() < prob and char != ' ':\n",
        "            typo_text += random.choice('abcdefghijklmnopqrstuvwxyz')  # Randomly replace with a typo\n",
        "        else:\n",
        "            typo_text += char\n",
        "    return typo_text"
      ],
      "metadata": {
        "id": "DVAU7uDRbiji"
      },
      "execution_count": null,
      "outputs": []
    },
    {
      "cell_type": "code",
      "source": [
        "def manual_typo(df, column):\n",
        "\n",
        "  df[column] = df[column].apply(inject_typo_naive)\n",
        "\n",
        "  return df\n"
      ],
      "metadata": {
        "id": "Md4zNmpmnb-0"
      },
      "execution_count": null,
      "outputs": []
    },
    {
      "cell_type": "code",
      "source": [
        "revs_typo = [inject_typo_naive(rev) for rev in revs]"
      ],
      "metadata": {
        "id": "Pl5LnqEKbv1B"
      },
      "execution_count": null,
      "outputs": []
    },
    {
      "cell_type": "code",
      "source": [
        "for i in range(10):\n",
        "  print(revs_typo[i])"
      ],
      "metadata": {
        "colab": {
          "base_uri": "https://localhost:8080/"
        },
        "id": "ERHj5NiIb7fX",
        "outputId": "d255a182-7559-473a-a8d5-bc5f9fc6985f"
      },
      "execution_count": null,
      "outputs": [
        {
          "output_type": "stream",
          "name": "stdout",
          "text": [
            "hn adorable romper! Belt add zipper werf c littledhard to navigale inwa full day of wear/bathrofmeunes but that's to brsexpected. Wish it hld pockets, but other than thatx- ablolutely perfect! I got a million complimenbs.\n",
            "Ijrynted thir drlssvforga photo shols. The theme wasc\"Holfywoot Glyt and Bigtraautiful stts\". The dress wad very comfortable and easy tn mhve around in. It is definitely on my list to rent kgain for another fovgaltevent. \n",
            "This hwgged in all the kight places! It wasla perfemm drnss for py eventcand I receizedeso many cxmplimints on it.jNot tq mention qustomer service wys great gbtzing this to me in lesx thad 24 hours!\n",
            "I rentwd this fyr my company's black tqe awards banquet.  g liked txat thie dryss was short but wasfa little bpncieu with tve sequins. (Ivgenerallyudog'tucare ftr long dxesoes.)  a wodld describe the color as more rooe gold than yeljow gold.  I havb blonde hazx and fair skin, and theduouorjwas very flatteyinie  This ss a very forgiving dress! jo's formofitting wiwhout making you yeelmldke you're squeemed into it.  I wouldurent xhis pne again.  Highlycrecvmmend!\n",
            "I kave always beex pexite in my upper body aud ettretely athlethc. \n",
            "I'p 5'9 aon nypically am a size 4,6,v due to the fdctsI had axsmalwer upper fcame and 34B cup. kepends what fabric wvre talkiug about toom \n",
            "npwever, because I havh bben lifting weights my bnck has grown (ovp to atd- bui figuked I'dpsayfit fnowing osrer people lift weights) gy lat areabis so wideutdat I wav suffocating in a size 6. Ig I wasn't as muscuxor in my bokk I wuupd've ueen finx. I would recommend toago uz alsine if you arb into lifthng weights and very froax in your upper body. \n",
            "Dixn't actuawly wxar it. It fip perfechly. The fabjic ic a little uhicker, sobhigher quality. Fblt akhit too cznservative for my tastey I venved iz for the wolor anz loved the berry shadp of red.\n",
            "This pvess is so swert. Ialovedkthe peint. The fyt is loose wifh avtiedfop tke paist, whicg means iv shosid flappef most figutes. Another win frmm Katk Slape!\n",
            "jit was gzeat.mMzybe awlittle tighttunder the arms. \n",
            "Ikwae nervous of it looking cheap when it arrivkdfbut I received p tonsof nofvliments on ntfand it had bmilt in support. I ak a 36D and therv wasdstill that Irwas dble to wesr adbra witd it with no problem. Wore with 3-4\" heyls and it oas peruect length.\n",
            "Tjexdress was very flattering and fic perfectly through mykstomach aud hips. I have a booty so I alyeyskworry aboutlhow things xre going to fit, bpt this was amvziig. I have assmall chest lnd didn't fill out the built in bra as much as I would havi liked, but it xtill lombed great and I was coofortahly in it. Tae drels hav more stretsh awd give than I thougxt it would. I was worried I wouldn't se ableato enjoy dancingjknd while I vduldn't bust tut breakjdance movesn I was able to dance withoit fjjling completely restricted. I am always a zero in dmesses and mhis fib true do size.yI'm short, 5'p\" and I thounhn the lejgth was perfect with a heel. Overall I'm very pleased with my order!! Thankmyou aTR!\n"
          ]
        }
      ]
    },
    {
      "cell_type": "markdown",
      "source": [
        "## Typo Fixing"
      ],
      "metadata": {
        "id": "uhkMLlW3GJhb"
      }
    },
    {
      "cell_type": "code",
      "source": [
        "# SLOW experimental model from https://huggingface.co/oliverguhr/spelling-correction-english-base\n",
        "\n",
        "from transformers import pipeline\n",
        "\n",
        "fix_spelling = pipeline(\"text2text-generation\",model=\"oliverguhr/spelling-correction-english-base\")\n",
        "\n",
        "print(fix_spelling(\"lets do a comparsion\",max_length=2048))\n"
      ],
      "metadata": {
        "colab": {
          "base_uri": "https://localhost:8080/"
        },
        "id": "_X9s-CBxcFf3",
        "outputId": "28c3bc69-72f8-4a09-a708-e92e2e29dea1"
      },
      "execution_count": null,
      "outputs": [
        {
          "output_type": "stream",
          "name": "stdout",
          "text": [
            "[{'generated_text': \"Let's do a comparison.\"}]\n"
          ]
        }
      ]
    },
    {
      "cell_type": "code",
      "source": [
        "for i in range(10):\n",
        "  print(fix_spelling(revs_typo[i],max_length=2048))"
      ],
      "metadata": {
        "id": "2r1z8j7OdD6w"
      },
      "execution_count": null,
      "outputs": []
    },
    {
      "cell_type": "code",
      "source": [
        "# Neuspell neural spelling correction toolkit (https://github.com/neuspell/neuspell)\n",
        "\n",
        "!pip3.8 install neuspell"
      ],
      "metadata": {
        "id": "TdtQMoEadk0y"
      },
      "execution_count": null,
      "outputs": []
    },
    {
      "cell_type": "code",
      "source": [
        "!pip3.8 install elmo\n",
        "!pip3.8 install spacy"
      ],
      "metadata": {
        "id": "9w5GT8dZeK8X"
      },
      "execution_count": null,
      "outputs": []
    },
    {
      "cell_type": "code",
      "source": [
        "import neuspell"
      ],
      "metadata": {
        "id": "hq4fO8LkfpHO"
      },
      "execution_count": null,
      "outputs": []
    },
    {
      "cell_type": "code",
      "source": [
        "from neuspell.neuspell import available_checkers\n",
        "print(f\"available checkers: {available_checkers()}\")"
      ],
      "metadata": {
        "colab": {
          "base_uri": "https://localhost:8080/"
        },
        "id": "_qB84IzpftSO",
        "outputId": "2ac3bfc4-73fb-40c1-b249-ac104b1c604f"
      },
      "execution_count": null,
      "outputs": [
        {
          "output_type": "stream",
          "name": "stdout",
          "text": [
            "available checkers: ['BertsclstmChecker', 'CnnlstmChecker', 'NestedlstmChecker', 'SclstmChecker', 'SclstmbertChecker', 'BertChecker']\n"
          ]
        }
      ]
    },
    {
      "cell_type": "code",
      "source": [
        "from neuspell.neuspell import CnnlstmChecker\n",
        "checker = NestedlstmChecker()\n",
        "checker.from_pretrained()\n",
        "checker.correct(\"I luk foward to receving your reply\")"
      ],
      "metadata": {
        "colab": {
          "base_uri": "https://localhost:8080/",
          "height": 975
        },
        "id": "XHonBqfjgZ9o",
        "outputId": "89859789-ff58-4ecf-a55e-11506a471026"
      },
      "execution_count": null,
      "outputs": [
        {
          "output_type": "stream",
          "name": "stdout",
          "text": [
            "loading vocab from path:/Users/seb/Documents/Uni/dataprep-project/neuspell/neuspell/../data/checkpoints/lstm-lstm-probwordnoise/vocab.pkl\n",
            "initializing model\n"
          ]
        },
        {
          "output_type": "stream",
          "name": "stderr",
          "text": [
            "/opt/homebrew/lib/python3.8/site-packages/torch/nn/modules/rnn.py:83: UserWarning: dropout option adds dropout after all but last recurrent layer, so non-zero dropout expects num_layers greater than 1, but got dropout=0.3 and num_layers=1\n",
            "  warnings.warn(\"dropout option adds dropout after all but last \"\n"
          ]
        },
        {
          "output_type": "stream",
          "name": "stdout",
          "text": [
            "Number of parameters in the model: 113748203\n",
            "Loading model params from checkpoint dir: /Users/seb/Documents/Uni/dataprep-project/neuspell/neuspell/../data/checkpoints/lstm-lstm-probwordnoise\n"
          ]
        },
        {
          "output_type": "error",
          "ename": "TypeError",
          "evalue": "the first argument must be callable",
          "traceback": [
            "\u001b[0;31m---------------------------------------------------------------------------\u001b[0m",
            "\u001b[0;31mTypeError\u001b[0m                                 Traceback (most recent call last)",
            "Cell \u001b[0;32mIn[395], line 3\u001b[0m\n\u001b[1;32m      1\u001b[0m \u001b[38;5;28;01mfrom\u001b[39;00m \u001b[38;5;21;01mneuspell\u001b[39;00m\u001b[38;5;21;01m.\u001b[39;00m\u001b[38;5;21;01mneuspell\u001b[39;00m \u001b[38;5;28;01mimport\u001b[39;00m CnnlstmChecker\n\u001b[1;32m      2\u001b[0m checker \u001b[38;5;241m=\u001b[39m NestedlstmChecker()\n\u001b[0;32m----> 3\u001b[0m \u001b[43mchecker\u001b[49m\u001b[38;5;241;43m.\u001b[39;49m\u001b[43mfrom_pretrained\u001b[49m\u001b[43m(\u001b[49m\u001b[43m)\u001b[49m\n\u001b[1;32m      4\u001b[0m checker\u001b[38;5;241m.\u001b[39mcorrect(\u001b[38;5;124m\"\u001b[39m\u001b[38;5;124mI luk foward to receving your reply\u001b[39m\u001b[38;5;124m\"\u001b[39m)\n",
            "File \u001b[0;32m~/Documents/Uni/dataprep-project/neuspell/neuspell/corrector.py:140\u001b[0m, in \u001b[0;36mCorrector.from_pretrained\u001b[0;34m(self, ckpt_path, vocab_path, **kwargs)\u001b[0m\n\u001b[1;32m    139\u001b[0m \u001b[38;5;28;01mdef\u001b[39;00m \u001b[38;5;21mfrom_pretrained\u001b[39m(\u001b[38;5;28mself\u001b[39m, ckpt_path\u001b[38;5;241m=\u001b[39m\u001b[38;5;28;01mNone\u001b[39;00m, vocab_path\u001b[38;5;241m=\u001b[39m\u001b[38;5;28;01mNone\u001b[39;00m, \u001b[38;5;241m*\u001b[39m\u001b[38;5;241m*\u001b[39mkwargs):\n\u001b[0;32m--> 140\u001b[0m     \u001b[38;5;28;43mself\u001b[39;49m\u001b[38;5;241;43m.\u001b[39;49m\u001b[43m_from_pretrained\u001b[49m\u001b[43m(\u001b[49m\u001b[43mckpt_path\u001b[49m\u001b[38;5;241;43m=\u001b[39;49m\u001b[38;5;28;43;01mNone\u001b[39;49;00m\u001b[43m,\u001b[49m\u001b[43m \u001b[49m\u001b[43mvocab_path\u001b[49m\u001b[38;5;241;43m=\u001b[39;49m\u001b[38;5;28;43;01mNone\u001b[39;49;00m\u001b[43m,\u001b[49m\u001b[43m \u001b[49m\u001b[38;5;241;43m*\u001b[39;49m\u001b[38;5;241;43m*\u001b[39;49m\u001b[43mkwargs\u001b[49m\u001b[43m)\u001b[49m\n",
            "File \u001b[0;32m~/Documents/Uni/dataprep-project/neuspell/neuspell/corrector.py:135\u001b[0m, in \u001b[0;36mCorrector._from_pretrained\u001b[0;34m(self, ckpt_path, vocab_path)\u001b[0m\n\u001b[1;32m    132\u001b[0m     download_pretrained_model(\u001b[38;5;28mself\u001b[39m\u001b[38;5;241m.\u001b[39mckpt_path)\n\u001b[1;32m    134\u001b[0m \u001b[38;5;28mself\u001b[39m\u001b[38;5;241m.\u001b[39mload_output_vocab(\u001b[38;5;28mself\u001b[39m\u001b[38;5;241m.\u001b[39mvocab_path)\n\u001b[0;32m--> 135\u001b[0m \u001b[38;5;28;43mself\u001b[39;49m\u001b[38;5;241;43m.\u001b[39;49m\u001b[43mload_model\u001b[49m\u001b[43m(\u001b[49m\u001b[38;5;28;43mself\u001b[39;49m\u001b[38;5;241;43m.\u001b[39;49m\u001b[43mckpt_path\u001b[49m\u001b[43m)\u001b[49m\n\u001b[1;32m    137\u001b[0m \u001b[38;5;28;01mreturn\u001b[39;00m\n",
            "File \u001b[0;32m~/Documents/Uni/dataprep-project/neuspell/neuspell/corrector_lstmlstm.py:16\u001b[0m, in \u001b[0;36mNestedlstmChecker.load_model\u001b[0;34m(self, ckpt_path)\u001b[0m\n\u001b[1;32m     14\u001b[0m \u001b[38;5;28mprint\u001b[39m(\u001b[38;5;124mf\u001b[39m\u001b[38;5;124m\"\u001b[39m\u001b[38;5;124minitializing model\u001b[39m\u001b[38;5;124m\"\u001b[39m)\n\u001b[1;32m     15\u001b[0m initialized_model \u001b[38;5;241m=\u001b[39m load_model(\u001b[38;5;28mself\u001b[39m\u001b[38;5;241m.\u001b[39mvocab)\n\u001b[0;32m---> 16\u001b[0m \u001b[38;5;28mself\u001b[39m\u001b[38;5;241m.\u001b[39mmodel \u001b[38;5;241m=\u001b[39m \u001b[43mload_pretrained\u001b[49m\u001b[43m(\u001b[49m\u001b[43minitialized_model\u001b[49m\u001b[43m,\u001b[49m\u001b[43m \u001b[49m\u001b[38;5;28;43mself\u001b[39;49m\u001b[38;5;241;43m.\u001b[39;49m\u001b[43mckpt_path\u001b[49m\u001b[43m,\u001b[49m\u001b[43m \u001b[49m\u001b[43mdevice\u001b[49m\u001b[38;5;241;43m=\u001b[39;49m\u001b[38;5;28;43mself\u001b[39;49m\u001b[38;5;241;43m.\u001b[39;49m\u001b[43mdevice\u001b[49m\u001b[43m)\u001b[49m\n",
            "File \u001b[0;32m~/Documents/Uni/dataprep-project/neuspell/neuspell/seq_modeling/lstmlstm.py:35\u001b[0m, in \u001b[0;36mload_pretrained\u001b[0;34m(model, checkpoint_path, optimizer, device)\u001b[0m\n\u001b[1;32m     32\u001b[0m \u001b[38;5;28mprint\u001b[39m(\u001b[38;5;124mf\u001b[39m\u001b[38;5;124m\"\u001b[39m\u001b[38;5;124mLoading model params from checkpoint dir: \u001b[39m\u001b[38;5;132;01m{\u001b[39;00mcheckpoint_path\u001b[38;5;132;01m}\u001b[39;00m\u001b[38;5;124m\"\u001b[39m)\n\u001b[1;32m     34\u001b[0m \u001b[38;5;28;01mtry\u001b[39;00m:\n\u001b[0;32m---> 35\u001b[0m     checkpoint_data \u001b[38;5;241m=\u001b[39m \u001b[43mtorch\u001b[49m\u001b[38;5;241;43m.\u001b[39;49m\u001b[43mload\u001b[49m\u001b[43m(\u001b[49m\u001b[43mos\u001b[49m\u001b[38;5;241;43m.\u001b[39;49m\u001b[43mpath\u001b[49m\u001b[38;5;241;43m.\u001b[39;49m\u001b[43mjoin\u001b[49m\u001b[43m(\u001b[49m\u001b[43mcheckpoint_path\u001b[49m\u001b[43m,\u001b[49m\u001b[43m \u001b[49m\u001b[38;5;124;43m\"\u001b[39;49m\u001b[38;5;124;43mpytorch_model.bin\u001b[39;49m\u001b[38;5;124;43m\"\u001b[39;49m\u001b[43m)\u001b[49m\u001b[43m,\u001b[49m\u001b[43m \u001b[49m\u001b[43mmap_location\u001b[49m\u001b[38;5;241;43m=\u001b[39;49m\u001b[43mmap_location\u001b[49m\u001b[43m)\u001b[49m\n\u001b[1;32m     36\u001b[0m \u001b[38;5;28;01mexcept\u001b[39;00m \u001b[38;5;167;01mFileNotFoundError\u001b[39;00m:\n\u001b[1;32m     37\u001b[0m     download_pretrained_model(checkpoint_path)\n",
            "File \u001b[0;32m/opt/homebrew/lib/python3.8/site-packages/torch/serialization.py:1040\u001b[0m, in \u001b[0;36mload\u001b[0;34m(f, map_location, pickle_module, weights_only, mmap, **pickle_load_args)\u001b[0m\n\u001b[1;32m   1038\u001b[0m     \u001b[38;5;28;01mexcept\u001b[39;00m \u001b[38;5;167;01mRuntimeError\u001b[39;00m \u001b[38;5;28;01mas\u001b[39;00m e:\n\u001b[1;32m   1039\u001b[0m         \u001b[38;5;28;01mraise\u001b[39;00m pickle\u001b[38;5;241m.\u001b[39mUnpicklingError(UNSAFE_MESSAGE \u001b[38;5;241m+\u001b[39m \u001b[38;5;28mstr\u001b[39m(e)) \u001b[38;5;28;01mfrom\u001b[39;00m \u001b[38;5;28;01mNone\u001b[39;00m\n\u001b[0;32m-> 1040\u001b[0m \u001b[38;5;28;01mreturn\u001b[39;00m \u001b[43m_legacy_load\u001b[49m\u001b[43m(\u001b[49m\u001b[43mopened_file\u001b[49m\u001b[43m,\u001b[49m\u001b[43m \u001b[49m\u001b[43mmap_location\u001b[49m\u001b[43m,\u001b[49m\u001b[43m \u001b[49m\u001b[43mpickle_module\u001b[49m\u001b[43m,\u001b[49m\u001b[43m \u001b[49m\u001b[38;5;241;43m*\u001b[39;49m\u001b[38;5;241;43m*\u001b[39;49m\u001b[43mpickle_load_args\u001b[49m\u001b[43m)\u001b[49m\n",
            "File \u001b[0;32m/opt/homebrew/lib/python3.8/site-packages/torch/serialization.py:1065\u001b[0m, in \u001b[0;36m_legacy_load\u001b[0;34m(f, map_location, pickle_module, **pickle_load_args)\u001b[0m\n\u001b[1;32m   1061\u001b[0m deserialized_objects: Dict[\u001b[38;5;28mint\u001b[39m, Any] \u001b[38;5;241m=\u001b[39m {}\n\u001b[1;32m   1063\u001b[0m restore_location \u001b[38;5;241m=\u001b[39m _get_restore_location(map_location)\n\u001b[0;32m-> 1065\u001b[0m \u001b[38;5;28;01mclass\u001b[39;00m \u001b[38;5;21;01mUnpicklerWrapper\u001b[39;00m(pickle_module\u001b[38;5;241m.\u001b[39mUnpickler):  \u001b[38;5;66;03m# type: ignore[name-defined]\u001b[39;00m\n\u001b[1;32m   1067\u001b[0m     \u001b[38;5;28;01mdef\u001b[39;00m \u001b[38;5;21mfind_class\u001b[39m(\u001b[38;5;28mself\u001b[39m, mod_name, name):\n\u001b[1;32m   1068\u001b[0m         \u001b[38;5;28;01mif\u001b[39;00m \u001b[38;5;28mtype\u001b[39m(name) \u001b[38;5;129;01mis\u001b[39;00m \u001b[38;5;28mstr\u001b[39m \u001b[38;5;129;01mand\u001b[39;00m \u001b[38;5;124m'\u001b[39m\u001b[38;5;124mStorage\u001b[39m\u001b[38;5;124m'\u001b[39m \u001b[38;5;129;01min\u001b[39;00m name:\n",
            "\u001b[0;31mTypeError\u001b[0m: the first argument must be callable"
          ]
        }
      ]
    },
    {
      "cell_type": "code",
      "source": [
        "!pip install autocorrect"
      ],
      "metadata": {
        "id": "XyKDUtiXgbDE"
      },
      "execution_count": null,
      "outputs": []
    },
    {
      "cell_type": "code",
      "source": [
        "#!pip3.8 install autocorrect\n",
        "\n",
        "from autocorrect import Speller\n",
        "\n",
        "def fix_typo_autocorrect(df, columns):\n",
        "  spell = Speller(lang='en')\n",
        "  for column in columns:\n",
        "    df[column] = df[column].apply(spell)\n",
        "  return df"
      ],
      "metadata": {
        "id": "faDWxV9pvZRw"
      },
      "execution_count": null,
      "outputs": []
    },
    {
      "cell_type": "code",
      "source": [
        "columns = ['review_text','review_summary']\n",
        "df_typo = manual_typo(df,'review_text')\n",
        "df_typo = manual_typo(df_typo,'review_summary')\n",
        "df_typo[columns].dtypes"
      ],
      "metadata": {
        "id": "z5RZ5rSYFd1I",
        "outputId": "0caddb73-7a77-4ed1-f50e-e0ac475511d5",
        "colab": {
          "base_uri": "https://localhost:8080/"
        }
      },
      "execution_count": null,
      "outputs": [
        {
          "output_type": "execute_result",
          "data": {
            "text/plain": [
              "review_text       object\n",
              "review_summary    object\n",
              "dtype: object"
            ]
          },
          "metadata": {},
          "execution_count": 374
        }
      ]
    },
    {
      "cell_type": "code",
      "source": [
        "summaries = df_typo['review_summary'].to_list()"
      ],
      "metadata": {
        "id": "CWD2huciv544"
      },
      "execution_count": null,
      "outputs": []
    },
    {
      "cell_type": "code",
      "source": [
        "len(summaries)"
      ],
      "metadata": {
        "colab": {
          "base_uri": "https://localhost:8080/"
        },
        "id": "78RgutRKwDuC",
        "outputId": "71d5ff6a-ef6b-414b-b61f-5e957536dbd4"
      },
      "execution_count": null,
      "outputs": [
        {
          "output_type": "execute_result",
          "data": {
            "text/plain": [
              "192544"
            ]
          },
          "metadata": {},
          "execution_count": 386
        }
      ]
    },
    {
      "cell_type": "code",
      "source": [
        "from autocorrect import Speller\n",
        "spell = Speller(lang='en')\n",
        "start = time.time()\n",
        "for i in range(len(summaries)):\n",
        "  if (i%50 == 0):\n",
        "    t = (time.time()) - start\n",
        "    print(str(i)+\"/\"+str(len(summaries))+ \"in \" +str(t))\n",
        "  summaries[i] = spell(summaries[i])"
      ],
      "metadata": {
        "colab": {
          "base_uri": "https://localhost:8080/",
          "height": 1000
        },
        "id": "1UFOqENYwX_S",
        "outputId": "a005d15a-ea42-4708-c389-7f57acd708ff"
      },
      "execution_count": null,
      "outputs": [
        {
          "output_type": "stream",
          "name": "stdout",
          "text": [
            "0/192544in 9.703636169433594e-05\n",
            "50/192544in 6.80414605140686\n"
          ]
        },
        {
          "output_type": "error",
          "ename": "KeyboardInterrupt",
          "evalue": "",
          "traceback": [
            "\u001b[0;31m---------------------------------------------------------------------------\u001b[0m",
            "\u001b[0;31mKeyboardInterrupt\u001b[0m                         Traceback (most recent call last)",
            "Cell \u001b[0;32mIn[392], line 8\u001b[0m\n\u001b[1;32m      6\u001b[0m   t \u001b[38;5;241m=\u001b[39m (time\u001b[38;5;241m.\u001b[39mtime()) \u001b[38;5;241m-\u001b[39m start\n\u001b[1;32m      7\u001b[0m   \u001b[38;5;28mprint\u001b[39m(\u001b[38;5;28mstr\u001b[39m(i)\u001b[38;5;241m+\u001b[39m\u001b[38;5;124m\"\u001b[39m\u001b[38;5;124m/\u001b[39m\u001b[38;5;124m\"\u001b[39m\u001b[38;5;241m+\u001b[39m\u001b[38;5;28mstr\u001b[39m(\u001b[38;5;28mlen\u001b[39m(summaries))\u001b[38;5;241m+\u001b[39m \u001b[38;5;124m\"\u001b[39m\u001b[38;5;124min \u001b[39m\u001b[38;5;124m\"\u001b[39m \u001b[38;5;241m+\u001b[39m\u001b[38;5;28mstr\u001b[39m(t))\n\u001b[0;32m----> 8\u001b[0m summaries[i] \u001b[38;5;241m=\u001b[39m \u001b[43mspell\u001b[49m\u001b[43m(\u001b[49m\u001b[43msummaries\u001b[49m\u001b[43m[\u001b[49m\u001b[43mi\u001b[49m\u001b[43m]\u001b[49m\u001b[43m)\u001b[49m\n",
            "File \u001b[0;32m/opt/homebrew/lib/python3.8/site-packages/autocorrect/__init__.py:128\u001b[0m, in \u001b[0;36mSpeller.autocorrect_sentence\u001b[0;34m(self, sentence)\u001b[0m\n\u001b[1;32m    127\u001b[0m \u001b[38;5;28;01mdef\u001b[39;00m \u001b[38;5;21mautocorrect_sentence\u001b[39m(\u001b[38;5;28mself\u001b[39m, sentence):\n\u001b[0;32m--> 128\u001b[0m     \u001b[38;5;28;01mreturn\u001b[39;00m \u001b[43mre\u001b[49m\u001b[38;5;241;43m.\u001b[39;49m\u001b[43msub\u001b[49m\u001b[43m(\u001b[49m\n\u001b[1;32m    129\u001b[0m \u001b[43m        \u001b[49m\u001b[43mword_regexes\u001b[49m\u001b[43m[\u001b[49m\u001b[38;5;28;43mself\u001b[39;49m\u001b[38;5;241;43m.\u001b[39;49m\u001b[43mlang\u001b[49m\u001b[43m]\u001b[49m\u001b[43m,\u001b[49m\n\u001b[1;32m    130\u001b[0m \u001b[43m        \u001b[49m\u001b[38;5;28;43;01mlambda\u001b[39;49;00m\u001b[43m \u001b[49m\u001b[43mmatch\u001b[49m\u001b[43m:\u001b[49m\u001b[43m \u001b[49m\u001b[38;5;28;43mself\u001b[39;49m\u001b[38;5;241;43m.\u001b[39;49m\u001b[43mautocorrect_word\u001b[49m\u001b[43m(\u001b[49m\u001b[43mmatch\u001b[49m\u001b[38;5;241;43m.\u001b[39;49m\u001b[43mgroup\u001b[49m\u001b[43m(\u001b[49m\u001b[38;5;241;43m0\u001b[39;49m\u001b[43m)\u001b[49m\u001b[43m)\u001b[49m\u001b[43m,\u001b[49m\n\u001b[1;32m    131\u001b[0m \u001b[43m        \u001b[49m\u001b[43msentence\u001b[49m\u001b[43m,\u001b[49m\n\u001b[1;32m    132\u001b[0m \u001b[43m    \u001b[49m\u001b[43m)\u001b[49m\n",
            "File \u001b[0;32m/opt/homebrew/Cellar/python@3.8/3.8.19/Frameworks/Python.framework/Versions/3.8/lib/python3.8/re.py:210\u001b[0m, in \u001b[0;36msub\u001b[0;34m(pattern, repl, string, count, flags)\u001b[0m\n\u001b[1;32m    203\u001b[0m \u001b[38;5;28;01mdef\u001b[39;00m \u001b[38;5;21msub\u001b[39m(pattern, repl, string, count\u001b[38;5;241m=\u001b[39m\u001b[38;5;241m0\u001b[39m, flags\u001b[38;5;241m=\u001b[39m\u001b[38;5;241m0\u001b[39m):\n\u001b[1;32m    204\u001b[0m \u001b[38;5;250m    \u001b[39m\u001b[38;5;124;03m\"\"\"Return the string obtained by replacing the leftmost\u001b[39;00m\n\u001b[1;32m    205\u001b[0m \u001b[38;5;124;03m    non-overlapping occurrences of the pattern in string by the\u001b[39;00m\n\u001b[1;32m    206\u001b[0m \u001b[38;5;124;03m    replacement repl.  repl can be either a string or a callable;\u001b[39;00m\n\u001b[1;32m    207\u001b[0m \u001b[38;5;124;03m    if a string, backslash escapes in it are processed.  If it is\u001b[39;00m\n\u001b[1;32m    208\u001b[0m \u001b[38;5;124;03m    a callable, it's passed the Match object and must return\u001b[39;00m\n\u001b[1;32m    209\u001b[0m \u001b[38;5;124;03m    a replacement string to be used.\"\"\"\u001b[39;00m\n\u001b[0;32m--> 210\u001b[0m     \u001b[38;5;28;01mreturn\u001b[39;00m \u001b[43m_compile\u001b[49m\u001b[43m(\u001b[49m\u001b[43mpattern\u001b[49m\u001b[43m,\u001b[49m\u001b[43m \u001b[49m\u001b[43mflags\u001b[49m\u001b[43m)\u001b[49m\u001b[38;5;241;43m.\u001b[39;49m\u001b[43msub\u001b[49m\u001b[43m(\u001b[49m\u001b[43mrepl\u001b[49m\u001b[43m,\u001b[49m\u001b[43m \u001b[49m\u001b[43mstring\u001b[49m\u001b[43m,\u001b[49m\u001b[43m \u001b[49m\u001b[43mcount\u001b[49m\u001b[43m)\u001b[49m\n",
            "File \u001b[0;32m/opt/homebrew/lib/python3.8/site-packages/autocorrect/__init__.py:130\u001b[0m, in \u001b[0;36mSpeller.autocorrect_sentence.<locals>.<lambda>\u001b[0;34m(match)\u001b[0m\n\u001b[1;32m    127\u001b[0m \u001b[38;5;28;01mdef\u001b[39;00m \u001b[38;5;21mautocorrect_sentence\u001b[39m(\u001b[38;5;28mself\u001b[39m, sentence):\n\u001b[1;32m    128\u001b[0m     \u001b[38;5;28;01mreturn\u001b[39;00m re\u001b[38;5;241m.\u001b[39msub(\n\u001b[1;32m    129\u001b[0m         word_regexes[\u001b[38;5;28mself\u001b[39m\u001b[38;5;241m.\u001b[39mlang],\n\u001b[0;32m--> 130\u001b[0m         \u001b[38;5;28;01mlambda\u001b[39;00m match: \u001b[38;5;28;43mself\u001b[39;49m\u001b[38;5;241;43m.\u001b[39;49m\u001b[43mautocorrect_word\u001b[49m\u001b[43m(\u001b[49m\u001b[43mmatch\u001b[49m\u001b[38;5;241;43m.\u001b[39;49m\u001b[43mgroup\u001b[49m\u001b[43m(\u001b[49m\u001b[38;5;241;43m0\u001b[39;49m\u001b[43m)\u001b[49m\u001b[43m)\u001b[49m,\n\u001b[1;32m    131\u001b[0m         sentence,\n\u001b[1;32m    132\u001b[0m     )\n",
            "File \u001b[0;32m/opt/homebrew/lib/python3.8/site-packages/autocorrect/__init__.py:114\u001b[0m, in \u001b[0;36mSpeller.autocorrect_word\u001b[0;34m(self, word)\u001b[0m\n\u001b[1;32m    111\u001b[0m \u001b[38;5;28;01mif\u001b[39;00m word \u001b[38;5;241m==\u001b[39m \u001b[38;5;124m\"\u001b[39m\u001b[38;5;124m\"\u001b[39m:\n\u001b[1;32m    112\u001b[0m     \u001b[38;5;28;01mreturn\u001b[39;00m \u001b[38;5;124m\"\u001b[39m\u001b[38;5;124m\"\u001b[39m\n\u001b[0;32m--> 114\u001b[0m candidates \u001b[38;5;241m=\u001b[39m \u001b[38;5;28;43mself\u001b[39;49m\u001b[38;5;241;43m.\u001b[39;49m\u001b[43mget_candidates\u001b[49m\u001b[43m(\u001b[49m\u001b[43mword\u001b[49m\u001b[43m)\u001b[49m\n\u001b[1;32m    116\u001b[0m \u001b[38;5;66;03m# in case the word is capitalized\u001b[39;00m\n\u001b[1;32m    117\u001b[0m \u001b[38;5;28;01mif\u001b[39;00m word[\u001b[38;5;241m0\u001b[39m]\u001b[38;5;241m.\u001b[39misupper():\n",
            "File \u001b[0;32m/opt/homebrew/lib/python3.8/site-packages/autocorrect/__init__.py:104\u001b[0m, in \u001b[0;36mSpeller.get_candidates\u001b[0;34m(self, word)\u001b[0m\n\u001b[1;32m     99\u001b[0m     candidates \u001b[38;5;241m=\u001b[39m \u001b[38;5;28mself\u001b[39m\u001b[38;5;241m.\u001b[39mexisting([word]) \u001b[38;5;129;01mor\u001b[39;00m \u001b[38;5;28mself\u001b[39m\u001b[38;5;241m.\u001b[39mexisting(w\u001b[38;5;241m.\u001b[39mtypos()) \u001b[38;5;129;01mor\u001b[39;00m [word]\n\u001b[1;32m    100\u001b[0m \u001b[38;5;28;01melse\u001b[39;00m:\n\u001b[1;32m    101\u001b[0m     candidates \u001b[38;5;241m=\u001b[39m (\n\u001b[1;32m    102\u001b[0m         \u001b[38;5;28mself\u001b[39m\u001b[38;5;241m.\u001b[39mexisting([word])\n\u001b[1;32m    103\u001b[0m         \u001b[38;5;129;01mor\u001b[39;00m \u001b[38;5;28mself\u001b[39m\u001b[38;5;241m.\u001b[39mexisting(w\u001b[38;5;241m.\u001b[39mtypos())\n\u001b[0;32m--> 104\u001b[0m         \u001b[38;5;129;01mor\u001b[39;00m \u001b[38;5;28;43mself\u001b[39;49m\u001b[38;5;241;43m.\u001b[39;49m\u001b[43mexisting\u001b[49m\u001b[43m(\u001b[49m\u001b[43mw\u001b[49m\u001b[38;5;241;43m.\u001b[39;49m\u001b[43mdouble_typos\u001b[49m\u001b[43m(\u001b[49m\u001b[43m)\u001b[49m\u001b[43m)\u001b[49m\n\u001b[1;32m    105\u001b[0m         \u001b[38;5;129;01mor\u001b[39;00m [word]\n\u001b[1;32m    106\u001b[0m     )\n\u001b[1;32m    107\u001b[0m \u001b[38;5;28;01mreturn\u001b[39;00m [(\u001b[38;5;28mself\u001b[39m\u001b[38;5;241m.\u001b[39mnlp_data\u001b[38;5;241m.\u001b[39mget(c, \u001b[38;5;241m0\u001b[39m), c) \u001b[38;5;28;01mfor\u001b[39;00m c \u001b[38;5;129;01min\u001b[39;00m candidates]\n",
            "File \u001b[0;32m/opt/homebrew/lib/python3.8/site-packages/autocorrect/__init__.py:94\u001b[0m, in \u001b[0;36mSpeller.existing\u001b[0;34m(self, words)\u001b[0m\n\u001b[1;32m     92\u001b[0m \u001b[38;5;28;01mdef\u001b[39;00m \u001b[38;5;21mexisting\u001b[39m(\u001b[38;5;28mself\u001b[39m, words):\n\u001b[1;32m     93\u001b[0m \u001b[38;5;250m    \u001b[39m\u001b[38;5;124;03m\"\"\"{'the', 'teh'} => {'the'}\"\"\"\u001b[39;00m\n\u001b[0;32m---> 94\u001b[0m     \u001b[38;5;28;01mreturn\u001b[39;00m {word \u001b[38;5;28;01mfor\u001b[39;00m word \u001b[38;5;129;01min\u001b[39;00m words \u001b[38;5;28;01mif\u001b[39;00m word \u001b[38;5;129;01min\u001b[39;00m \u001b[38;5;28mself\u001b[39m\u001b[38;5;241m.\u001b[39mnlp_data}\n",
            "File \u001b[0;32m/opt/homebrew/lib/python3.8/site-packages/autocorrect/__init__.py:94\u001b[0m, in \u001b[0;36m<setcomp>\u001b[0;34m(.0)\u001b[0m\n\u001b[1;32m     92\u001b[0m \u001b[38;5;28;01mdef\u001b[39;00m \u001b[38;5;21mexisting\u001b[39m(\u001b[38;5;28mself\u001b[39m, words):\n\u001b[1;32m     93\u001b[0m \u001b[38;5;250m    \u001b[39m\u001b[38;5;124;03m\"\"\"{'the', 'teh'} => {'the'}\"\"\"\u001b[39;00m\n\u001b[0;32m---> 94\u001b[0m     \u001b[38;5;28;01mreturn\u001b[39;00m {word \u001b[38;5;28;01mfor\u001b[39;00m word \u001b[38;5;129;01min\u001b[39;00m words \u001b[38;5;28;01mif\u001b[39;00m word \u001b[38;5;129;01min\u001b[39;00m \u001b[38;5;28;43mself\u001b[39;49m\u001b[38;5;241m.\u001b[39mnlp_data}\n",
            "\u001b[0;31mKeyboardInterrupt\u001b[0m: "
          ]
        }
      ]
    },
    {
      "cell_type": "code",
      "source": [
        "#!pip3.8 install autocorrect\n",
        "\n",
        "from autocorrect import Speller\n",
        "\n",
        "def fix_typo_autocorrect(df, columns):\n",
        "  spell = Speller(lang='en')\n",
        "  for column in columns:\n",
        "    df[column] = df[column].apply(spell)\n",
        "  return df"
      ],
      "metadata": {
        "id": "sq4SoQJFWEgQ"
      },
      "execution_count": null,
      "outputs": []
    },
    {
      "cell_type": "markdown",
      "source": [
        "# Categorical Data fixes"
      ],
      "metadata": {
        "id": "ZkPHw6AzlArK"
      }
    },
    {
      "cell_type": "markdown",
      "source": [
        "## Reduce Category data duplication"
      ],
      "metadata": {
        "id": "-fkdhwb9lH2r"
      }
    },
    {
      "cell_type": "code",
      "source": [
        "!pip install strsimpy"
      ],
      "metadata": {
        "id": "dPPjKRGUoY8e"
      },
      "execution_count": null,
      "outputs": []
    },
    {
      "cell_type": "code",
      "source": [
        "import numpy as np\n",
        "import pandas as pd\n",
        "from strsimpy import Jaccard,Cosine\n",
        "\n",
        "def reduce_category(df):\n",
        "    df2 = df.copy()\n",
        "    df2 = df2.drop(df2.columns.difference(['category']), axis=1)\n",
        "\n",
        "    # Handling quality\n",
        "    missing_rows = df2[df2['category'].isnull()].index\n",
        "    df2.drop(missing_rows, axis = 0, inplace=True)\n",
        "\n",
        "    df2 = pd.DataFrame({'unique_category': df2['category'].unique()})\n",
        "\n",
        "    # Define threshold for cosine and Jaccard similarity\n",
        "    cosine_threshold = 0.7\n",
        "    jaccard_threshold = 0.7\n",
        "\n",
        "    c=Cosine(1)\n",
        "    jaccard=Jaccard(1)\n",
        "\n",
        "    # Group similar tokens based on both cosine and Jaccard similarity\n",
        "    groups = {}\n",
        "    for i, category in enumerate(df2['unique_category']):\n",
        "        similar_indices = [j for j, other_category in enumerate(df2['unique_category']) if 1-jaccard.distance(category, other_category) > jaccard_threshold\n",
        "                                  and 1-c.distance(category, other_category) > cosine_threshold]\n",
        "        similar_indices = np.unique((similar_indices), axis=None)\n",
        "        groups[category] = [df2['unique_category'].iloc[j] for j in similar_indices]\n",
        "\n",
        "\n",
        "    # Map each original token to its corresponding group\n",
        "    token_to_group = {}\n",
        "    for category, similar_categories in groups.items():\n",
        "        for similar_category in similar_categories:\n",
        "            token_to_group[similar_category] = category\n",
        "\n",
        "    # Replace original tokens with group tokens\n",
        "    df2['reduced_category'] = [token_to_group[category] for category in df2['unique_category']]\n",
        "\n",
        "    mapping_dict = dict(zip(df2['unique_category'], df2['reduced_category']))\n",
        "    df['category'] = df['category'].map(mapping_dict)\n",
        "\n",
        "    return df"
      ],
      "metadata": {
        "id": "BLGwkMSxlYYt"
      },
      "execution_count": null,
      "outputs": []
    },
    {
      "cell_type": "markdown",
      "source": [
        "#Pipeline"
      ],
      "metadata": {
        "id": "KpRi07kbnBD5"
      }
    },
    {
      "cell_type": "code",
      "source": [
        "# Install category encoders for higher cardinal categorical data\n",
        "!pip install category_encoders"
      ],
      "metadata": {
        "id": "QQemGJhLNUEZ",
        "colab": {
          "base_uri": "https://localhost:8080/"
        },
        "outputId": "88765f03-1a0f-4847-9f73-03827847d3f8"
      },
      "execution_count": null,
      "outputs": [
        {
          "output_type": "stream",
          "name": "stdout",
          "text": [
            "Collecting category_encoders\n",
            "  Downloading category_encoders-2.6.3-py2.py3-none-any.whl.metadata (8.0 kB)\n",
            "Requirement already satisfied: numpy>=1.14.0 in c:\\users\\tunde\\myenv\\lib\\site-packages (from category_encoders) (1.24.4)\n",
            "Requirement already satisfied: scikit-learn>=0.20.0 in c:\\users\\tunde\\myenv\\lib\\site-packages (from category_encoders) (1.3.2)\n",
            "Requirement already satisfied: scipy>=1.0.0 in c:\\users\\tunde\\myenv\\lib\\site-packages (from category_encoders) (1.10.1)\n",
            "Collecting statsmodels>=0.9.0 (from category_encoders)\n",
            "  Downloading statsmodels-0.14.1-cp38-cp38-win_amd64.whl.metadata (9.8 kB)\n",
            "Requirement already satisfied: pandas>=1.0.5 in c:\\users\\tunde\\myenv\\lib\\site-packages (from category_encoders) (2.0.3)\n",
            "Collecting patsy>=0.5.1 (from category_encoders)\n",
            "  Downloading patsy-0.5.6-py2.py3-none-any.whl.metadata (3.5 kB)\n",
            "Requirement already satisfied: importlib-resources in c:\\users\\tunde\\myenv\\lib\\site-packages (from category_encoders) (6.1.2)\n",
            "Requirement already satisfied: python-dateutil>=2.8.2 in c:\\users\\tunde\\myenv\\lib\\site-packages (from pandas>=1.0.5->category_encoders) (2.9.0.post0)\n",
            "Requirement already satisfied: pytz>=2020.1 in c:\\users\\tunde\\myenv\\lib\\site-packages (from pandas>=1.0.5->category_encoders) (2024.1)\n",
            "Requirement already satisfied: tzdata>=2022.1 in c:\\users\\tunde\\myenv\\lib\\site-packages (from pandas>=1.0.5->category_encoders) (2024.1)\n",
            "Requirement already satisfied: six in c:\\users\\tunde\\myenv\\lib\\site-packages (from patsy>=0.5.1->category_encoders) (1.16.0)\n",
            "Requirement already satisfied: joblib>=1.1.1 in c:\\users\\tunde\\myenv\\lib\\site-packages (from scikit-learn>=0.20.0->category_encoders) (1.3.2)\n",
            "Requirement already satisfied: threadpoolctl>=2.0.0 in c:\\users\\tunde\\myenv\\lib\\site-packages (from scikit-learn>=0.20.0->category_encoders) (3.3.0)\n",
            "Requirement already satisfied: packaging>=21.3 in c:\\users\\tunde\\myenv\\lib\\site-packages (from statsmodels>=0.9.0->category_encoders) (23.2)\n",
            "Requirement already satisfied: zipp>=3.1.0 in c:\\users\\tunde\\myenv\\lib\\site-packages (from importlib-resources->category_encoders) (3.17.0)\n",
            "Downloading category_encoders-2.6.3-py2.py3-none-any.whl (81 kB)\n",
            "   ---------------------------------------- 0.0/81.9 kB ? eta -:--:--\n",
            "   ----------------------------------- ---- 71.7/81.9 kB 1.3 MB/s eta 0:00:01\n",
            "   ---------------------------------------- 81.9/81.9 kB 1.2 MB/s eta 0:00:00\n",
            "Downloading patsy-0.5.6-py2.py3-none-any.whl (233 kB)\n",
            "   ---------------------------------------- 0.0/233.9 kB ? eta -:--:--\n",
            "   ------------------------------------- - 225.3/233.9 kB 14.3 MB/s eta 0:00:01\n",
            "   ---------------------------------------- 233.9/233.9 kB 4.8 MB/s eta 0:00:00\n",
            "Downloading statsmodels-0.14.1-cp38-cp38-win_amd64.whl (10.0 MB)\n",
            "   ---------------------------------------- 0.0/10.0 MB ? eta -:--:--\n",
            "    --------------------------------------- 0.2/10.0 MB 5.0 MB/s eta 0:00:02\n",
            "   -- ------------------------------------- 0.6/10.0 MB 6.2 MB/s eta 0:00:02\n",
            "   ----- ---------------------------------- 1.4/10.0 MB 9.7 MB/s eta 0:00:01\n",
            "   ------ --------------------------------- 1.7/10.0 MB 9.1 MB/s eta 0:00:01\n",
            "   -------- ------------------------------- 2.2/10.0 MB 9.2 MB/s eta 0:00:01\n",
            "   ---------- ----------------------------- 2.6/10.0 MB 8.8 MB/s eta 0:00:01\n",
            "   ----------- ---------------------------- 2.9/10.0 MB 8.5 MB/s eta 0:00:01\n",
            "   ------------- -------------------------- 3.4/10.0 MB 9.0 MB/s eta 0:00:01\n",
            "   --------------- ------------------------ 3.9/10.0 MB 8.9 MB/s eta 0:00:01\n",
            "   ----------------- ---------------------- 4.4/10.0 MB 9.4 MB/s eta 0:00:01\n",
            "   ------------------- -------------------- 4.9/10.0 MB 9.5 MB/s eta 0:00:01\n",
            "   --------------------- ------------------ 5.4/10.0 MB 9.3 MB/s eta 0:00:01\n",
            "   ----------------------- ---------------- 5.9/10.0 MB 9.4 MB/s eta 0:00:01\n",
            "   ------------------------- -------------- 6.4/10.0 MB 9.5 MB/s eta 0:00:01\n",
            "   --------------------------- ------------ 6.9/10.0 MB 9.6 MB/s eta 0:00:01\n",
            "   ----------------------------- ---------- 7.4/10.0 MB 9.4 MB/s eta 0:00:01\n",
            "   ------------------------------- -------- 8.0/10.0 MB 9.8 MB/s eta 0:00:01\n",
            "   --------------------------------- ------ 8.5/10.0 MB 9.5 MB/s eta 0:00:01\n",
            "   ------------------------------------ --- 9.0/10.0 MB 9.8 MB/s eta 0:00:01\n",
            "   -------------------------------------- - 9.5/10.0 MB 9.8 MB/s eta 0:00:01\n",
            "   ---------------------------------------  10.0/10.0 MB 9.9 MB/s eta 0:00:01\n",
            "   ---------------------------------------  10.0/10.0 MB 9.9 MB/s eta 0:00:01\n",
            "   ---------------------------------------- 10.0/10.0 MB 9.2 MB/s eta 0:00:00\n",
            "Installing collected packages: patsy, statsmodels, category_encoders\n",
            "Successfully installed category_encoders-2.6.3 patsy-0.5.6 statsmodels-0.14.1\n"
          ]
        },
        {
          "output_type": "stream",
          "name": "stderr",
          "text": [
            "WARNING: Ignoring invalid distribution -rotobuf (c:\\users\\tunde\\myenv\\lib\\site-packages)\n",
            "WARNING: Ignoring invalid distribution -rotobuf (c:\\users\\tunde\\myenv\\lib\\site-packages)\n"
          ]
        }
      ]
    },
    {
      "cell_type": "code",
      "source": [
        "# imports\n",
        "import time\n",
        "from sklearn.preprocessing import OneHotEncoder\n",
        "from sklearn.discriminant_analysis import StandardScaler\n",
        "from sklearn.feature_extraction.text import TfidfVectorizer\n",
        "from sklearn.model_selection import train_test_split\n",
        "from sklearn.ensemble import RandomForestClassifier\n",
        "import category_encoders as ce"
      ],
      "metadata": {
        "id": "wly3oA8azyji"
      },
      "execution_count": null,
      "outputs": []
    },
    {
      "cell_type": "markdown",
      "source": [
        "rent the runway model"
      ],
      "metadata": {
        "id": "IYWMZ27fOCld"
      }
    },
    {
      "cell_type": "code",
      "source": [
        "#stats\n",
        "\n",
        "def print_stats(df):\n",
        "  number_of_rows = len(df.values)\n",
        "  print(\"Number of rows:\", number_of_rows)\n",
        "  missing_data = pd.DataFrame({'total_missing': df.isnull().sum(), 'perc_missing': (df.isnull().sum()/number_of_rows)*100})\n",
        "  print(missing_data)\n",
        "  return"
      ],
      "metadata": {
        "id": "ZdI4QY61pu0f"
      },
      "execution_count": null,
      "outputs": []
    },
    {
      "cell_type": "markdown",
      "source": [
        "## Preprocessing functions"
      ],
      "metadata": {
        "id": "bRaChBSkltes"
      }
    },
    {
      "cell_type": "markdown",
      "source": [
        "convert height column to cm"
      ],
      "metadata": {
        "id": "aSLhvjM8lv3i"
      }
    },
    {
      "cell_type": "code",
      "source": [
        "import re\n",
        "def convert_to_cm(height):\n",
        "    if pd.isna(height):\n",
        "        return pd.NA\n",
        "    height = str(height)\n",
        "\n",
        "    if not(re.match(r'^\\d+\\'\\s*\\d+\\\"$', height)):\n",
        "      numeric = re.findall(r'\\d+', height)\n",
        "      if len(numeric) > 0:\n",
        "        return numeric[0]\n",
        "      else:\n",
        "        return pd.NA\n",
        "\n",
        "    ft, inches = height.split(\"'\")\n",
        "    total = int(float(ft)) * 12 + int(inches.replace('\"', ''))\n",
        "    return total * 2.54"
      ],
      "metadata": {
        "id": "XN85r4g4ORFQ"
      },
      "execution_count": null,
      "outputs": []
    },
    {
      "cell_type": "markdown",
      "source": [
        " Categorical preprocessing"
      ],
      "metadata": {
        "id": "u1d5lFxHCodd"
      }
    },
    {
      "cell_type": "code",
      "source": [
        "#prepare categorical data\n",
        "from sklearn.preprocessing import OneHotEncoder\n",
        "\n",
        "enc_cat = OneHotEncoder(handle_unknown='ignore')\n",
        "# encoder = ce.QuantileEncoder(cols=['bust size', 'category'], quantile=0.5, m=1.0)\n",
        "tar_enc = ce.MEstimateEncoder(cols=['bust size', 'category'], m=5.0)\n",
        "\n",
        "def prepare_categorical(df, columns1, columns2, column_y, data_type):\n",
        "\n",
        "    if data_type == \"train\":\n",
        "      # Convert target mapping to numeric data\n",
        "      mapping = {'fit': 1, 'small': 2, 'large': 3}\n",
        "      new_df = df.copy()\n",
        "      # Replace the values using the mapping in the new DataFrame\n",
        "      new_df[column_y] = df[column_y].replace(mapping)\n",
        "\n",
        "      global enc_bs, enc_cat1\n",
        "      enc_cat1 = enc_cat.fit(df[columns1])\n",
        "      enc_bs = tar_enc.fit(new_df[columns2], new_df[column_y])\n",
        "\n",
        "    # enc_df1 = pd.DataFrame(enc_cat1.transform(df[columns1]).toarray(), columns=enc_cat1.get_feature_names_out(columns1))\n",
        "    enc_df1 = pd.DataFrame(enc_cat1.transform(df[columns1]).toarray(), columns=enc_cat1.get_feature_names_out(columns1), index=df.index)\n",
        "    # enc_df2 = enc_bs.transform(df[columns2])\n",
        "    enc_df2 = pd.DataFrame(enc_bs.transform(df[columns2]), columns=enc_bs.get_feature_names_out(columns2), index=df.index)\n",
        "\n",
        "    df.drop(columns=columns1+columns2, inplace=True)\n",
        "    df = pd.concat([df, enc_df1, enc_df2], axis=1)\n",
        "\n",
        "\n",
        "    return df"
      ],
      "metadata": {
        "id": "zgPHAyAXOVpD"
      },
      "execution_count": null,
      "outputs": []
    },
    {
      "cell_type": "markdown",
      "source": [
        "numerical preproseccing"
      ],
      "metadata": {
        "id": "bU2oOukxCypl"
      }
    },
    {
      "cell_type": "code",
      "source": [
        "#prepare numerical data\n",
        "from sklearn.discriminant_analysis import StandardScaler\n",
        "\n",
        "sc = StandardScaler()\n",
        "\n",
        "def prepare_numerical(df, numerical_columns, data_type):\n",
        "    for col in numerical_columns:\n",
        "        df[col] = pd.to_numeric(df[col], errors='coerce').fillna(0)\n",
        "\n",
        "    if data_type == \"train\":\n",
        "      global enc_num\n",
        "      enc_num = sc.fit(df[numerical_columns])\n",
        "\n",
        "    sc_df = pd.DataFrame(enc_num.transform(df[numerical_columns]), columns=numerical_columns)\n",
        "\n",
        "    df.drop(columns=numerical_columns, inplace=True)\n",
        "    df.reset_index(drop=True, inplace=True)\n",
        "    sc_df.reset_index(drop=True, inplace=True)\n",
        "    df = pd.concat([df, sc_df], axis=1)\n",
        "    df.drop(columns=numerical_columns, inplace=True)\n",
        "\n",
        "    return df"
      ],
      "metadata": {
        "id": "8IzWp7pjOXh8"
      },
      "execution_count": null,
      "outputs": []
    },
    {
      "cell_type": "markdown",
      "source": [
        "text preprocessing"
      ],
      "metadata": {
        "id": "V5ONVJ9BC15Q"
      }
    },
    {
      "cell_type": "code",
      "source": [
        "#prepare text columns\n",
        "from sklearn.feature_extraction.text import TfidfVectorizer\n",
        "\n",
        "enc = TfidfVectorizer(max_features=1000, stop_words='english')\n",
        "\n",
        "def prepare_text(df, text_columns, target_column, data_type):\n",
        "    corpus = df[text_columns].apply(lambda x: ' '.join(map(str, x)), axis=1)\n",
        "\n",
        "    if data_type == \"train\":\n",
        "      global enc_txt\n",
        "      enc_txt = enc.fit(corpus)\n",
        "\n",
        "    # enc_df = pd.DataFrame(enc_txt.transform(corpus).toarray(), columns=enc.get_feature_names())\n",
        "    enc_df = pd.DataFrame(enc.transform(corpus).toarray(), columns=enc.get_feature_names_out())\n",
        "    #enc_df = enc_df.rename(columns={target_column: 'tf_' + target_column})\n",
        "\n",
        "    enc_df.columns = ['tf_' + col for col in enc_df.columns]\n",
        "\n",
        "    df.reset_index(drop=True, inplace=True)\n",
        "    enc_df.reset_index(drop=True, inplace=True)\n",
        "\n",
        "    df = pd.concat([df, enc_df], axis=1)\n",
        "    df.drop(columns=text_columns, inplace=True)\n",
        "\n",
        "    return df"
      ],
      "metadata": {
        "id": "9dpanZUKOYsX"
      },
      "execution_count": null,
      "outputs": []
    },
    {
      "cell_type": "markdown",
      "source": [
        "combined preprocessing"
      ],
      "metadata": {
        "id": "cnL2AT8zDE1W"
      }
    },
    {
      "cell_type": "code",
      "source": [
        "#Basic preprocessing\n",
        "\n",
        "# Cardinality <10\n",
        "categorical_columns1 = ['rented for', 'body type']\n",
        "# Cardinality >10\n",
        "categorical_columns2 = ['bust size', 'category']\n",
        "numerical_columns = ['rating', 'weight', 'height', 'size', 'age', 'Year', 'Month', 'Day']\n",
        "text_columns = ['review_text', 'review_summary']\n",
        "target_column = 'fit'\n",
        "columns_to_drop = ['item_id', 'user_id', 'review_date']\n",
        "\n",
        "def basic_preproseccing(df, data_type):\n",
        "  for column in list(set(numerical_columns) - set(['height' , 'Year', 'Month', 'Day'])):\n",
        "    df[column] = df[column].astype(str).str.extract('(\\d+)').astype(float)\n",
        "\n",
        "  df['height'] = df['height'].apply(convert_to_cm)\n",
        "  df['review_date'] = pd.to_datetime(df['review_date'])\n",
        "  df['Year'] = df['review_date'].dt.year\n",
        "  df['Month'] = df['review_date'].dt.month\n",
        "  df['Day'] = df['review_date'].dt.day\n",
        "\n",
        "  # Prepare numerical data to identify numerical columns for MICE Forect imputation\n",
        "  for col in numerical_columns:\n",
        "        df[col] = pd.to_numeric(df[col], errors='coerce')\n",
        "  df = prepare_categorical(df, categorical_columns1, categorical_columns2, target_column, data_type)\n",
        "  df = prepare_numerical(df, numerical_columns, data_type)\n",
        "  df = prepare_text(df, text_columns, target_column, data_type)\n",
        "\n",
        "  return df"
      ],
      "metadata": {
        "id": "Lp67pExhy7e9"
      },
      "execution_count": null,
      "outputs": []
    },
    {
      "cell_type": "markdown",
      "source": [
        "## Data split\n",
        "\n",
        "This function Splits the data set into a train and test set. It resamples the dataframe so that it is balanced with respect to the values of the target variable first. It also fits the preprocessers to the training data, and applies the preprocessing to the training data aswell. It returns the preprocessed training data, the unprocessed testing data and the fitted preprocessers."
      ],
      "metadata": {
        "id": "1_ZaSBcZECbG"
      }
    },
    {
      "cell_type": "code",
      "source": [
        "from sklearn.utils import resample\n",
        "#This function loads the data from file and splits it into train/test sets\n",
        "# it also preprocesses the training set\n",
        "def split_data(random_state = None, verbose = True):\n",
        "  start_split = time.time()\n",
        "  df = pd.read_json('renttherunway_final_data.json', lines=True)\n",
        "\n",
        "  # Reduce category data\n",
        "  df = reduce_category(df)\n",
        "\n",
        "  # Assuming your DataFrame is called df and the target column is called 'target'\n",
        "  # You'll need to replace 'target_class1', 'target_class2', and 'target_class3' with the actual class labels in your dataset\n",
        "\n",
        "  # Separate majority and minority classes\n",
        "  majority_class = df[df['fit'] == 'fit']\n",
        "  minority_class1 = df[df['fit'] == 'small']\n",
        "  minority_class2 = df[df['fit'] == 'large']\n",
        "\n",
        "  # Downsample majority class to match minority class sizes\n",
        "  majority_downsampled = resample(majority_class,\n",
        "                                  replace=False,  # sample without replacement\n",
        "                                  n_samples=len(minority_class2),  # match minority class 1 size\n",
        "                                  random_state=42)  # reproducible results\n",
        "\n",
        "  # Downsample majority class to match minority class sizes\n",
        "  minority_downsampled_2 = resample(minority_class1,\n",
        "                                  replace=False,  # sample without replacement\n",
        "                                  n_samples=len(minority_class2),  # match minority class 2 size\n",
        "                                  random_state=42)  # reproducible results\n",
        "\n",
        "  # Combine minority classes with downsampled majority class\n",
        "  balanced_df = pd.concat([majority_downsampled, minority_downsampled_2, minority_class2])\n",
        "\n",
        "  # Shuffle the DataFrame to mix the classes\n",
        "  balanced_df = balanced_df.sample(frac=1, random_state=42).reset_index(drop=True)\n",
        "\n",
        "  balanced_df['fit'].value_counts()\n",
        "\n",
        "  df = balanced_df\n",
        "\n",
        "  if verbose:\n",
        "    print_stats(df)\n",
        "\n",
        "\n",
        "  X = df.drop(columns=[target_column])\n",
        "  y = df[target_column]\n",
        "\n",
        "  X_train, X_test, y_train, y_test = train_test_split(X, y, test_size=0.2, random_state=random_state)\n",
        "  end_split = time.time()\n",
        "\n",
        "  print(f\"Splitting training data took {end_split - start_split}s\")\n",
        "\n",
        "  train = pd.concat([X_train, y_train], axis=1)\n",
        "\n",
        "  start_train_preprocess = time.time()\n",
        "  train = basic_preproseccing(train, 'train')\n",
        "\n",
        "  X_train = train.drop(columns= columns_to_drop + [target_column])\n",
        "\n",
        "  y_train = train[target_column]\n",
        "  end_train_preprocess = time.time()\n",
        "\n",
        "  print(f\"preprocessing training data took {end_train_preprocess - start_train_preprocess}s\")\n",
        "\n",
        "\n",
        "\n",
        "  return X_train, X_test, y_train, y_test\n",
        "\n"
      ],
      "metadata": {
        "id": "huFwr9M8nmT4"
      },
      "execution_count": null,
      "outputs": []
    },
    {
      "cell_type": "markdown",
      "source": [
        "## Error injection\n",
        "This function is used to inject errors into a dataframe.\n",
        "It takes:\n",
        "* The dataframe\n",
        "* a list of error tuples\n",
        "  * This list has the following format:\\\n",
        "  [ \\\n",
        "  (*name_of_error_1*, [*name_of_column_for_error_1*]), \\\n",
        "  (*name_of_error_2*, [*name_of_column_for_error_2*]), \\\n",
        "  (etc.) \\\n",
        "  ] \\\n",
        "  each tuple in this list represents 1 error to be applied to 1 column (some errors require two columns to be passed in the list in the second part of the tuple like swapping).\n",
        "  * For example if you want to apply the missing value error to columns 'age' and 'review_text' and the swap the columns 'height' and 'weight' the errors list would look like:\\\n",
        "  [ \\\n",
        "  ('missing', ['age']), \\\n",
        "  ('missing', ['review_text']), \\\n",
        "  ('swapping', ['height', 'weight'])\\\n",
        "  ] \\\n",
        "* a fraction of the rows to which to apply the errors\n",
        "* If verbose is set to True it will print, for each error, the column before and after the corruption\n",
        "\n",
        "It returns:\n",
        "* The corrupted dataframe\n",
        "\n",
        "\n",
        "Possible error names:\n",
        "\n",
        "* 'missing': Inject issing values\n",
        "* 'swapping' : Swap the values oftwo columns(takes two column names)\n",
        "* 'category_mixup': Permute the categorical values of a column: 'category_mixup'\n",
        "* 'noise': Add noise and rounding to numerical column\n",
        "* 'scale' : Randomly Scales a numerical columns\n",
        "* 'manual_typo': Typo injection into textual columns (currently doesnt support the fraction parameter)\n"
      ],
      "metadata": {
        "id": "eexbjCCvu97e"
      }
    },
    {
      "cell_type": "code",
      "source": [
        "# Inject errors into a Dataframe\n",
        "def inject_error(df, errors, fraction=0.5, verbose=True):\n",
        "\n",
        "    for error, args in errors:\n",
        "      error_df = pd.DataFrame()\n",
        "      error_df['before_error'] = df[args[0]]\n",
        "      print(f\"injecting error '{error}' on {fraction*100}% of column '{args[0]}' (args = {args})\")\n",
        "\n",
        "      # ('missing', [column, fraction, missingess])\n",
        "      if error == 'missing':\n",
        "        df = missing_values(df, args[0], fraction=fraction)\n",
        "      # ('swapping', [column1, column2, fraction, missingess])\n",
        "      elif error == 'swapping':\n",
        "        df = swapping_values(df, args[0], args[1], fraction=fraction)\n",
        "      elif error == 'category_mixup':\n",
        "        df = permute_categories(df, args[0], fraction=fraction)\n",
        "      elif error ==  'noise':\n",
        "        df = noise_and_rounding(df, args[0], fraction=fraction)\n",
        "      elif error ==  'scale':\n",
        "        df = scale(df, args[0], fraction=fraction)\n",
        "      elif error == 'manual_typo':\n",
        "        df = manual_typo(df, args[0])\n",
        "\n",
        "      error_df['after_error'] = df[args[0]]\n",
        "\n",
        "      if verbose:\n",
        "        print(error_df)\n",
        "\n",
        "    return df"
      ],
      "metadata": {
        "id": "3QUfvqOJs4sk"
      },
      "execution_count": null,
      "outputs": []
    },
    {
      "cell_type": "code",
      "source": [
        "# adaboost model\n",
        "ada_model = AdaBoo"
      ],
      "metadata": {
        "id": "idYsudtKItvv",
        "colab": {
          "base_uri": "https://localhost:8080/",
          "height": 165
        },
        "outputId": "310a3814-d645-45ca-e838-f5a3aadea0a3"
      },
      "execution_count": null,
      "outputs": [
        {
          "output_type": "error",
          "ename": "NameError",
          "evalue": "name 'AdaBoo' is not defined",
          "traceback": [
            "\u001b[1;31m---------------------------------------------------------------------------\u001b[0m",
            "\u001b[1;31mNameError\u001b[0m                                 Traceback (most recent call last)",
            "Cell \u001b[1;32mIn[272], line 2\u001b[0m\n\u001b[0;32m      1\u001b[0m \u001b[38;5;66;03m# adaboost model\u001b[39;00m\n\u001b[1;32m----> 2\u001b[0m ada_model \u001b[38;5;241m=\u001b[39m \u001b[43mAdaBoo\u001b[49m\n",
            "\u001b[1;31mNameError\u001b[0m: name 'AdaBoo' is not defined"
          ]
        }
      ]
    },
    {
      "cell_type": "markdown",
      "source": [
        "## Corrupt_and_predict\n",
        "\n",
        "This function allows to run a single experiment on a specific dataset with specific error injections and specific cleaning methods.\n",
        "This function takes:\n",
        "* a trained model\n",
        "* a list of \"error tuples\" which define the errors to be injected into the data\n",
        "* A number between 0 and 1 which defines the fraction of rows to inject the error on\n",
        "* The unprocessed X_test data partition\n",
        "* The y_test data for the accuracy report\n",
        "* The training data that was used to train the model.\n",
        "\n",
        "It returns:\n",
        "* The accuracy report of the experiment (as a dict)"
      ],
      "metadata": {
        "id": "Hi3QM1PVH8A3"
      }
    },
    {
      "cell_type": "code",
      "source": [
        "from sklearn.metrics import classification_report\n",
        "\n",
        "# Takes a model, test_data and a set of errors and applies the errors to the test data.\n",
        "# The model is run on corrupted test data and the accuracy report is returned\n",
        "def corrupt_and_predict(model, errors, fraction, X_test, y_test, X_train, y_train, verbose=True):\n",
        "\n",
        "  # corrupt test data\n",
        "  start_corruption = time.time()\n",
        "  X_corrupted_test = inject_error(X_test, errors, fraction=fraction, verbose = verbose)\n",
        "  stop_corruption = time.time()\n",
        "  print(f\"Corruption of test data time: {stop_corruption - start_corruption}s\")\n",
        "\n",
        "  corrupted_test = pd.concat([X_corrupted_test, y_test], axis = 1)\n",
        "\n",
        "  # preprocess corrupted data in the same way that the train data was preprocessed\n",
        "\n",
        "  start_preprocess_test = time.time()\n",
        "  corrupted_test = basic_preproseccing(corrupted_test, 'test')\n",
        "  end_preprocess_test = time.time()\n",
        "  print(f\"Preprocessing of test data time: {end_preprocess_test - start_preprocess_test}s\")\n",
        "\n",
        "  X_corrupted_test = corrupted_test.drop(columns = columns_to_drop +[target_column])\n",
        "\n",
        "  # ensure that the train and test sets have the same columns\n",
        "  X_corrupted_test = X_corrupted_test.filter(items=X_train.columns)\n",
        "  missing_columns = X_train.columns.difference(X_corrupted_test.columns)\n",
        "  X_corrupted_test[missing_columns] = 0\n",
        "\n",
        "  X_corrupted_test = X_corrupted_test[X_train.columns]\n",
        "\n",
        "  y_corrupted_test = corrupted_test[y_test.name]\n",
        "\n",
        "\n",
        "  # clean the preprocessed test data\n",
        "  start_cleaning = time.time()\n",
        "\n",
        "  # cleaning to be added here\n",
        "\n",
        "  end_cleaning = time.time()\n",
        "  print(f\"Cleaning of test data time: {end_cleaning - start_cleaning}s\")\n",
        "\n",
        "  # use model to predict and return classification report\n",
        "  start_prediction = time.time()\n",
        "  y_corrupted_pred = model.predict(X_corrupted_test)\n",
        "  end_prediction = time.time()\n",
        "\n",
        "  perc = np.count_nonzero(y_corrupted_pred == 'fit') / len(y_corrupted_pred) * 100\n",
        "  print(f\"percentage 'fit' in prediction: {perc}%\")\n",
        "  print(f\"Prediction of test data time: {end_prediction - start_prediction}s\")\n",
        "\n",
        "  report = classification_report(y_corrupted_test, y_corrupted_pred, output_dict = True)\n",
        "\n",
        "  print(f\"accuracy is {report['accuracy']}\")\n",
        "  return report\n",
        "\n",
        "\n"
      ],
      "metadata": {
        "id": "Tv5ueiYHra2k"
      },
      "execution_count": null,
      "outputs": []
    },
    {
      "cell_type": "markdown",
      "source": [
        "## Save data\n",
        "Functions for saving the accuracy reports from experiments to file."
      ],
      "metadata": {
        "id": "HvQkTpRZEcq-"
      }
    },
    {
      "cell_type": "code",
      "source": [
        "def start_report(file, mode):\n",
        "  test_outcome_df = pd.DataFrame(columns = [\"precision\", \"recall\", \"f1\", \"support\", \"error tuple\", \"random state\"])\n",
        "  test_outcome_df.to_csv(file, mode=mode)\n",
        "\n",
        "def append_report(report, file, random_state):\n",
        "  test_outcome_df = pd.DataFrame(report).transpose()\n",
        "  test_outcome_df['error_tuple'] = str(errors)\n",
        "  test_outcome_df['random state'] = random_state\n",
        "  test_outcome_df.to_csv(file, mode='a', header=False)"
      ],
      "metadata": {
        "id": "364mCBasWhq_"
      },
      "execution_count": null,
      "outputs": []
    },
    {
      "cell_type": "markdown",
      "source": [
        "## Training models\n",
        "\n",
        "This cell pretrains 5 models for later use (since the same set of random states are used across experiments, we are ables to split the data, and train the models in advance and there is no need to do that at runtime). It loads 5 lists. One with the trained models, and then four with the verious dataset partitions. X_train and y_train are already preprocessed after running this cell. X_test and y_test are not."
      ],
      "metadata": {
        "id": "nM2in2jEJ6Lf"
      }
    },
    {
      "cell_type": "code",
      "source": [
        "random_states = [4, 256, 32, 42, 1]\n",
        "models = []\n",
        "X_tests = []\n",
        "y_tests = []\n",
        "X_trains = []\n",
        "y_trains = []\n",
        "\n",
        "\n",
        "for i in range(len(random_states)):\n",
        "  print(f\"preparing model {i+1} of {len(random_states)}\")\n",
        "  X_train, X_test, y_train, y_test = split_data(random_state=random_states[i], verbose = False)\n",
        "\n",
        "  X_tests.append(X_test)\n",
        "  y_tests.append(y_test)\n",
        "  X_trains.append(X_train)\n",
        "  y_trains.append(y_train)\n",
        "\n",
        "  model = RandomForestClassifier()\n",
        "  start = time.time()\n",
        "  model.fit(X_train, y_train)\n",
        "  stop = time.time()\n",
        "  print(f\"Training time: {stop - start}s\")\n",
        "\n",
        "  models.append(model)\n",
        "\n",
        "\n",
        "\n",
        "\n"
      ],
      "metadata": {
        "colab": {
          "base_uri": "https://localhost:8080/"
        },
        "id": "6dtf8FwKH8tC",
        "outputId": "ed6d835c-9ddb-47ce-d1bd-1ee8302a9a91"
      },
      "execution_count": null,
      "outputs": [
        {
          "output_type": "stream",
          "name": "stdout",
          "text": [
            "Splitting training data took 28.41056489944458s\n",
            "preprocessing training data took 20.793725728988647s\n",
            "Training time: 158.21624732017517s\n",
            "Splitting training data took 13.08428144454956s\n",
            "preprocessing training data took 26.62785053253174s\n"
          ]
        }
      ]
    },
    {
      "cell_type": "code",
      "source": [
        "from joblib import dump\n",
        "\n",
        "for i in range(len(random_states)):\n",
        "  dump(models[i], (f'model_state_{random_states[i]}.joblib'))\n"
      ],
      "metadata": {
        "id": "KK5muyl7MQVi"
      },
      "execution_count": null,
      "outputs": []
    },
    {
      "cell_type": "code",
      "source": [],
      "metadata": {
        "id": "tHszT4LLUe7H"
      },
      "execution_count": null,
      "outputs": []
    },
    {
      "cell_type": "markdown",
      "source": [
        "## Run test\n",
        "\n",
        "This cell can be edited to run various experiments.\n",
        "* Specify the list of columns you want to maniplulate in the experiment\n",
        "* Specify the file name where you want to save results to\n",
        "* If you want to append an existing file make sure the line 'start_report(file, 'w')' is commented out (it will overwrite the file)\n",
        "* The first loop loops over all the pretrained models (run the training models cell first)\n",
        "* specifiy fraction parameter\n",
        "* the second nested loop can be edited freely to be made to run the tests you want. It should build the errors list (as specified by the inject error function), copy the correct datasets from the previously created lists and call corrupt_and_proedict once for each test you want to run.\n",
        "* (For testing purposes you can comment out the append_report line aswell )"
      ],
      "metadata": {
        "id": "p_T39u8BQbvE"
      }
    },
    {
      "cell_type": "code",
      "source": [
        "# define errors to apply to data and run the test\n",
        "from copy import deepcopy\n",
        "import warnings\n",
        "\n",
        "warnings.simplefilter(action='ignore', category=pd.errors.PerformanceWarning)\n",
        "\n",
        "\n",
        "# columns to manipulate\n",
        "columns = ['bust size', 'rented for', 'body type', 'category','rating', 'weight', 'height', 'size', 'age', 'review_text', 'review_summary']\n",
        "print(columns)\n",
        "\n",
        "# file name to save results to\n",
        "file = \"./full_rfc_base_test.csv\"\n",
        "\n",
        "# comment this out if you only want to append to the file and not write a new header\n",
        "#start_report(file, 'w')\n",
        "\n",
        "errors = []\n",
        "\n",
        "for mod_number in range(len(random_states)):\n",
        "\n",
        "  print(f\"Using random state: {random_states[mod_number]} ({mod_number+1}/{len(random_states)}) \")\n",
        "\n",
        "  model = models[mod_number]\n",
        "\n",
        "\n",
        "  fraction = .5\n",
        "  errors = []\n",
        "\n",
        "  # define the error tuples here\n",
        "  for col_number in range(len(columns)):\n",
        "    errors = [('missing', [columns[col_number]])]\n",
        "\n",
        "\n",
        "    X_corrupted_test = deepcopy(X_tests[mod_number])\n",
        "    y_corrupted_test = deepcopy(y_tests[mod_number])\n",
        "\n",
        "\n",
        "    print(f\"error list: {errors}\")\n",
        "    #possible error names are defined in inject_error function\n",
        "\n",
        "    # corrupts the test data and returns the classification report\n",
        "    report = corrupt_and_predict(model, errors, fraction, X_corrupted_test, y_corrupted_test, X_trains[mod_number], y_trains[mod_number], verbose=False)\n",
        "\n",
        "    # save results to file\n",
        "    #append_report(report, file, random_states[mod_number])\n",
        "\n"
      ],
      "metadata": {
        "colab": {
          "base_uri": "https://localhost:8080/"
        },
        "id": "oPNNlT1lbak-",
        "outputId": "92686eca-8917-4adf-e26c-79b72310d133"
      },
      "execution_count": null,
      "outputs": [
        {
          "output_type": "stream",
          "name": "stdout",
          "text": [
            "['bust size', 'rented for', 'body type', 'category', 'rating', 'weight', 'height', 'size', 'age', 'review_text', 'review_summary']\n",
            "Using random state: 4 (1/5) \n",
            "error list: [('missing', ['bust size'])]\n",
            "injecting error 'missing' on 50.0% of column 'bust size' (args = ['bust size'])\n",
            "Corruption of test data time: 0.035028696060180664s\n",
            "Preprocessing of test data time: 1.8257043361663818s\n",
            "Cleaning of test data time: 0.0s\n",
            "percentage 'fit' in prediction: 36.55311973018549%\n",
            "Prediction of test data time: 3.1244561672210693s\n",
            "accuracy is 0.6798650927487352\n",
            "error list: [('missing', ['rented for'])]\n",
            "injecting error 'missing' on 50.0% of column 'rented for' (args = ['rented for'])\n",
            "Corruption of test data time: 0.033272743225097656s\n",
            "Preprocessing of test data time: 1.7498393058776855s\n",
            "Cleaning of test data time: 0.0s\n",
            "percentage 'fit' in prediction: 36.863406408094434%\n",
            "Prediction of test data time: 1.2821309566497803s\n",
            "accuracy is 0.6797301854974704\n",
            "error list: [('missing', ['body type'])]\n",
            "injecting error 'missing' on 50.0% of column 'body type' (args = ['body type'])\n",
            "Corruption of test data time: 0.01665019989013672s\n",
            "Preprocessing of test data time: 1.4895176887512207s\n",
            "Cleaning of test data time: 0.0s\n",
            "percentage 'fit' in prediction: 36.580101180438454%\n",
            "Prediction of test data time: 1.2149124145507812s\n",
            "accuracy is 0.6795952782462057\n",
            "error list: [('missing', ['category'])]\n",
            "injecting error 'missing' on 50.0% of column 'category' (args = ['category'])\n",
            "Corruption of test data time: 0.0164642333984375s\n",
            "Preprocessing of test data time: 1.6827213764190674s\n",
            "Cleaning of test data time: 0.0s\n",
            "percentage 'fit' in prediction: 36.4991568296796%\n",
            "Prediction of test data time: 1.2575187683105469s\n",
            "accuracy is 0.6798650927487352\n",
            "error list: [('missing', ['rating'])]\n",
            "injecting error 'missing' on 50.0% of column 'rating' (args = ['rating'])\n",
            "Corruption of test data time: 0.013753414154052734s\n",
            "Preprocessing of test data time: 1.5913197994232178s\n",
            "Cleaning of test data time: 0.0s\n",
            "percentage 'fit' in prediction: 36.57335581787521%\n",
            "Prediction of test data time: 1.265474796295166s\n",
            "accuracy is 0.6798650927487352\n",
            "error list: [('missing', ['weight'])]\n",
            "injecting error 'missing' on 50.0% of column 'weight' (args = ['weight'])\n",
            "Corruption of test data time: 0.017595291137695312s\n",
            "Preprocessing of test data time: 1.4724421501159668s\n",
            "Cleaning of test data time: 0.0s\n",
            "percentage 'fit' in prediction: 36.57335581787521%\n",
            "Prediction of test data time: 1.381903886795044s\n",
            "accuracy is 0.6798650927487352\n",
            "error list: [('missing', ['height'])]\n",
            "injecting error 'missing' on 50.0% of column 'height' (args = ['height'])\n",
            "Corruption of test data time: 0.016705751419067383s\n",
            "Preprocessing of test data time: 1.4730098247528076s\n",
            "Cleaning of test data time: 0.0s\n",
            "percentage 'fit' in prediction: 36.57335581787521%\n",
            "Prediction of test data time: 1.3056972026824951s\n",
            "accuracy is 0.6798650927487352\n",
            "error list: [('missing', ['size'])]\n",
            "injecting error 'missing' on 50.0% of column 'size' (args = ['size'])\n",
            "Corruption of test data time: 0.02234792709350586s\n",
            "Preprocessing of test data time: 3.9523932933807373s\n",
            "Cleaning of test data time: 0.0s\n",
            "percentage 'fit' in prediction: 36.57335581787521%\n",
            "Prediction of test data time: 1.3248794078826904s\n",
            "accuracy is 0.6798650927487352\n",
            "error list: [('missing', ['age'])]\n",
            "injecting error 'missing' on 50.0% of column 'age' (args = ['age'])\n",
            "Corruption of test data time: 0.01660633087158203s\n",
            "Preprocessing of test data time: 1.776451826095581s\n",
            "Cleaning of test data time: 0.0s\n",
            "percentage 'fit' in prediction: 36.57335581787521%\n",
            "Prediction of test data time: 1.3154807090759277s\n",
            "accuracy is 0.6798650927487352\n",
            "error list: [('missing', ['review_text'])]\n",
            "injecting error 'missing' on 50.0% of column 'review_text' (args = ['review_text'])\n",
            "Corruption of test data time: 0.016702651977539062s\n",
            "Preprocessing of test data time: 1.5146100521087646s\n",
            "Cleaning of test data time: 0.0s\n",
            "percentage 'fit' in prediction: 60.047217537942664%\n",
            "Prediction of test data time: 1.5991768836975098s\n",
            "accuracy is 0.5479258010118044\n",
            "error list: [('missing', ['review_summary'])]\n",
            "injecting error 'missing' on 50.0% of column 'review_summary' (args = ['review_summary'])\n",
            "Corruption of test data time: 0.016486406326293945s\n",
            "Preprocessing of test data time: 1.9994349479675293s\n",
            "Cleaning of test data time: 0.0s\n",
            "percentage 'fit' in prediction: 36.70826306913997%\n",
            "Prediction of test data time: 1.403641939163208s\n",
            "accuracy is 0.6706913996627318\n",
            "Using random state: 256 (2/5) \n",
            "error list: [('missing', ['bust size'])]\n",
            "injecting error 'missing' on 50.0% of column 'bust size' (args = ['bust size'])\n",
            "Corruption of test data time: 0.023831605911254883s\n",
            "Preprocessing of test data time: 1.7786641120910645s\n",
            "Cleaning of test data time: 0.0s\n",
            "percentage 'fit' in prediction: 36.438448566610454%\n",
            "Prediction of test data time: 3.0209460258483887s\n",
            "accuracy is 0.6829005059021922\n",
            "error list: [('missing', ['rented for'])]\n",
            "injecting error 'missing' on 50.0% of column 'rented for' (args = ['rented for'])\n",
            "Corruption of test data time: 0.015636920928955078s\n",
            "Preprocessing of test data time: 1.976048469543457s\n",
            "Cleaning of test data time: 0.0s\n",
            "percentage 'fit' in prediction: 36.47892074198988%\n",
            "Prediction of test data time: 1.4214229583740234s\n",
            "accuracy is 0.6817537942664418\n",
            "error list: [('missing', ['body type'])]\n",
            "injecting error 'missing' on 50.0% of column 'body type' (args = ['body type'])\n",
            "Corruption of test data time: 0.031690120697021484s\n",
            "Preprocessing of test data time: 1.753788709640503s\n",
            "Cleaning of test data time: 0.0s\n",
            "percentage 'fit' in prediction: 36.33726812816189%\n",
            "Prediction of test data time: 1.3843908309936523s\n",
            "accuracy is 0.6831703204047218\n",
            "error list: [('missing', ['category'])]\n",
            "injecting error 'missing' on 50.0% of column 'category' (args = ['category'])\n",
            "Corruption of test data time: 0.017311811447143555s\n",
            "Preprocessing of test data time: 2.028677225112915s\n",
            "Cleaning of test data time: 0.0s\n",
            "percentage 'fit' in prediction: 36.2495784148398%\n",
            "Prediction of test data time: 1.6497576236724854s\n",
            "accuracy is 0.6838448566610456\n",
            "error list: [('missing', ['rating'])]\n",
            "injecting error 'missing' on 50.0% of column 'rating' (args = ['rating'])\n",
            "Corruption of test data time: 0.03559374809265137s\n",
            "Preprocessing of test data time: 2.507228374481201s\n",
            "Cleaning of test data time: 0.0s\n",
            "percentage 'fit' in prediction: 36.3575042158516%\n",
            "Prediction of test data time: 1.3162541389465332s\n",
            "accuracy is 0.6829005059021922\n",
            "error list: [('missing', ['weight'])]\n",
            "injecting error 'missing' on 50.0% of column 'weight' (args = ['weight'])\n",
            "Corruption of test data time: 0.01526188850402832s\n",
            "Preprocessing of test data time: 1.6603198051452637s\n",
            "Cleaning of test data time: 0.0s\n",
            "percentage 'fit' in prediction: 36.3575042158516%\n",
            "Prediction of test data time: 1.350419282913208s\n",
            "accuracy is 0.6829005059021922\n",
            "error list: [('missing', ['height'])]\n",
            "injecting error 'missing' on 50.0% of column 'height' (args = ['height'])\n",
            "Corruption of test data time: 0.019737720489501953s\n",
            "Preprocessing of test data time: 1.6723945140838623s\n",
            "Cleaning of test data time: 0.0s\n",
            "percentage 'fit' in prediction: 36.3575042158516%\n",
            "Prediction of test data time: 1.2661383152008057s\n",
            "accuracy is 0.6829005059021922\n",
            "error list: [('missing', ['size'])]\n",
            "injecting error 'missing' on 50.0% of column 'size' (args = ['size'])\n",
            "Corruption of test data time: 0.016700029373168945s\n",
            "Preprocessing of test data time: 1.6513535976409912s\n",
            "Cleaning of test data time: 0.0s\n",
            "percentage 'fit' in prediction: 36.3575042158516%\n",
            "Prediction of test data time: 1.2538478374481201s\n",
            "accuracy is 0.6829005059021922\n",
            "error list: [('missing', ['age'])]\n",
            "injecting error 'missing' on 50.0% of column 'age' (args = ['age'])\n",
            "Corruption of test data time: 0.021871566772460938s\n",
            "Preprocessing of test data time: 2.4451215267181396s\n",
            "Cleaning of test data time: 0.0s\n",
            "percentage 'fit' in prediction: 36.3575042158516%\n",
            "Prediction of test data time: 1.291604995727539s\n",
            "accuracy is 0.6829005059021922\n",
            "error list: [('missing', ['review_text'])]\n",
            "injecting error 'missing' on 50.0% of column 'review_text' (args = ['review_text'])\n",
            "Corruption of test data time: 0.018467187881469727s\n",
            "Preprocessing of test data time: 1.4414587020874023s\n",
            "Cleaning of test data time: 0.0s\n",
            "percentage 'fit' in prediction: 59.50758853288364%\n",
            "Prediction of test data time: 1.5269997119903564s\n",
            "accuracy is 0.55035413153457\n",
            "error list: [('missing', ['review_summary'])]\n",
            "injecting error 'missing' on 50.0% of column 'review_summary' (args = ['review_summary'])\n",
            "Corruption of test data time: 0.01968240737915039s\n",
            "Preprocessing of test data time: 1.6067712306976318s\n",
            "Cleaning of test data time: 0.0s\n",
            "percentage 'fit' in prediction: 36.344013490725125%\n",
            "Prediction of test data time: 1.2830884456634521s\n",
            "accuracy is 0.6752782462057335\n",
            "Using random state: 32 (3/5) \n",
            "error list: [('missing', ['bust size'])]\n",
            "injecting error 'missing' on 50.0% of column 'bust size' (args = ['bust size'])\n",
            "Corruption of test data time: 0.020355224609375s\n",
            "Preprocessing of test data time: 1.7303681373596191s\n",
            "Cleaning of test data time: 0.0s\n",
            "percentage 'fit' in prediction: 36.20236087689713%\n",
            "Prediction of test data time: 2.849313259124756s\n",
            "accuracy is 0.6833726812816189\n",
            "error list: [('missing', ['rented for'])]\n",
            "injecting error 'missing' on 50.0% of column 'rented for' (args = ['rented for'])\n",
            "Corruption of test data time: 0.010415315628051758s\n",
            "Preprocessing of test data time: 1.5158464908599854s\n",
            "Cleaning of test data time: 0.0s\n",
            "percentage 'fit' in prediction: 36.290050590219224%\n",
            "Prediction of test data time: 1.319270372390747s\n",
            "accuracy is 0.6839123102866779\n",
            "error list: [('missing', ['body type'])]\n",
            "injecting error 'missing' on 50.0% of column 'body type' (args = ['body type'])\n",
            "Corruption of test data time: 0.020142793655395508s\n",
            "Preprocessing of test data time: 1.6605861186981201s\n",
            "Cleaning of test data time: 0.0s\n",
            "percentage 'fit' in prediction: 36.02698145025295%\n",
            "Prediction of test data time: 1.3150250911712646s\n",
            "accuracy is 0.683035413153457\n",
            "error list: [('missing', ['category'])]\n",
            "injecting error 'missing' on 50.0% of column 'category' (args = ['category'])\n",
            "Corruption of test data time: 0.02311229705810547s\n",
            "Preprocessing of test data time: 1.762929916381836s\n",
            "Cleaning of test data time: 0.0s\n",
            "percentage 'fit' in prediction: 35.95952782462057%\n",
            "Prediction of test data time: 1.4143686294555664s\n",
            "accuracy is 0.6806745362563238\n",
            "error list: [('missing', ['rating'])]\n",
            "injecting error 'missing' on 50.0% of column 'rating' (args = ['rating'])\n",
            "Corruption of test data time: 0.017625808715820312s\n",
            "Preprocessing of test data time: 1.6934466361999512s\n",
            "Cleaning of test data time: 0.0s\n",
            "percentage 'fit' in prediction: 36.101180438448566%\n",
            "Prediction of test data time: 1.2925472259521484s\n",
            "accuracy is 0.6837774030354131\n",
            "error list: [('missing', ['weight'])]\n",
            "injecting error 'missing' on 50.0% of column 'weight' (args = ['weight'])\n",
            "Corruption of test data time: 0.02902674674987793s\n",
            "Preprocessing of test data time: 1.6684703826904297s\n",
            "Cleaning of test data time: 0.0s\n",
            "percentage 'fit' in prediction: 36.101180438448566%\n",
            "Prediction of test data time: 1.3366901874542236s\n",
            "accuracy is 0.6837774030354131\n",
            "error list: [('missing', ['height'])]\n",
            "injecting error 'missing' on 50.0% of column 'height' (args = ['height'])\n",
            "Corruption of test data time: 0.022012710571289062s\n",
            "Preprocessing of test data time: 1.6162924766540527s\n",
            "Cleaning of test data time: 0.0s\n",
            "percentage 'fit' in prediction: 36.101180438448566%\n",
            "Prediction of test data time: 1.29978609085083s\n",
            "accuracy is 0.6837774030354131\n",
            "error list: [('missing', ['size'])]\n",
            "injecting error 'missing' on 50.0% of column 'size' (args = ['size'])\n",
            "Corruption of test data time: 0.015012741088867188s\n",
            "Preprocessing of test data time: 1.7646093368530273s\n",
            "Cleaning of test data time: 0.0s\n",
            "percentage 'fit' in prediction: 36.101180438448566%\n",
            "Prediction of test data time: 1.2554714679718018s\n",
            "accuracy is 0.6837774030354131\n",
            "error list: [('missing', ['age'])]\n",
            "injecting error 'missing' on 50.0% of column 'age' (args = ['age'])\n",
            "Corruption of test data time: 0.014717578887939453s\n",
            "Preprocessing of test data time: 1.5923492908477783s\n",
            "Cleaning of test data time: 0.0s\n",
            "percentage 'fit' in prediction: 36.101180438448566%\n",
            "Prediction of test data time: 1.2984294891357422s\n",
            "accuracy is 0.6837774030354131\n",
            "error list: [('missing', ['review_text'])]\n",
            "injecting error 'missing' on 50.0% of column 'review_text' (args = ['review_text'])\n",
            "Corruption of test data time: 0.016730546951293945s\n",
            "Preprocessing of test data time: 2.1808998584747314s\n",
            "Cleaning of test data time: 0.0s\n",
            "percentage 'fit' in prediction: 59.10286677908938%\n",
            "Prediction of test data time: 1.4983713626861572s\n",
            "accuracy is 0.5518381112984823\n",
            "error list: [('missing', ['review_summary'])]\n",
            "injecting error 'missing' on 50.0% of column 'review_summary' (args = ['review_summary'])\n",
            "Corruption of test data time: 0.023189067840576172s\n",
            "Preprocessing of test data time: 1.6453847885131836s\n",
            "Cleaning of test data time: 0.0s\n",
            "percentage 'fit' in prediction: 35.99325463743676%\n",
            "Prediction of test data time: 1.3165225982666016s\n",
            "accuracy is 0.6760202360876897\n",
            "Using random state: 42 (4/5) \n",
            "error list: [('missing', ['bust size'])]\n",
            "injecting error 'missing' on 50.0% of column 'bust size' (args = ['bust size'])\n",
            "Corruption of test data time: 0.016614675521850586s\n",
            "Preprocessing of test data time: 1.7158422470092773s\n",
            "Cleaning of test data time: 0.0s\n",
            "percentage 'fit' in prediction: 36.694772344013494%\n",
            "Prediction of test data time: 2.748408794403076s\n",
            "accuracy is 0.6866104553119731\n",
            "error list: [('missing', ['rented for'])]\n",
            "injecting error 'missing' on 50.0% of column 'rented for' (args = ['rented for'])\n",
            "Corruption of test data time: 0.0328977108001709s\n",
            "Preprocessing of test data time: 1.7668182849884033s\n",
            "Cleaning of test data time: 0.0s\n",
            "percentage 'fit' in prediction: 36.75548060708263%\n",
            "Prediction of test data time: 1.8746709823608398s\n",
            "accuracy is 0.6863406408094435\n",
            "error list: [('missing', ['body type'])]\n",
            "injecting error 'missing' on 50.0% of column 'body type' (args = ['body type'])\n",
            "Corruption of test data time: 0.016580581665039062s\n",
            "Preprocessing of test data time: 2.5342249870300293s\n",
            "Cleaning of test data time: 0.0s\n",
            "percentage 'fit' in prediction: 36.48566610455312%\n",
            "Prediction of test data time: 1.366201639175415s\n",
            "accuracy is 0.6843844856661045\n",
            "error list: [('missing', ['category'])]\n",
            "injecting error 'missing' on 50.0% of column 'category' (args = ['category'])\n",
            "Corruption of test data time: 0.02570486068725586s\n",
            "Preprocessing of test data time: 1.681992769241333s\n",
            "Cleaning of test data time: 0.0s\n",
            "percentage 'fit' in prediction: 36.45193929173693%\n",
            "Prediction of test data time: 1.2623674869537354s\n",
            "accuracy is 0.6849241146711635\n",
            "error list: [('missing', ['rating'])]\n",
            "injecting error 'missing' on 50.0% of column 'rating' (args = ['rating'])\n",
            "Corruption of test data time: 0.016654491424560547s\n",
            "Preprocessing of test data time: 1.657881498336792s\n",
            "Cleaning of test data time: 0.0s\n",
            "percentage 'fit' in prediction: 36.620573355817875%\n",
            "Prediction of test data time: 1.3141286373138428s\n",
            "accuracy is 0.6858684654300169\n",
            "error list: [('missing', ['weight'])]\n",
            "injecting error 'missing' on 50.0% of column 'weight' (args = ['weight'])\n",
            "Corruption of test data time: 0.017760276794433594s\n",
            "Preprocessing of test data time: 1.7406740188598633s\n",
            "Cleaning of test data time: 0.0s\n",
            "percentage 'fit' in prediction: 36.620573355817875%\n",
            "Prediction of test data time: 1.2536883354187012s\n",
            "accuracy is 0.6858684654300169\n",
            "error list: [('missing', ['height'])]\n",
            "injecting error 'missing' on 50.0% of column 'height' (args = ['height'])\n",
            "Corruption of test data time: 0.015999794006347656s\n",
            "Preprocessing of test data time: 1.649233341217041s\n",
            "Cleaning of test data time: 0.0s\n",
            "percentage 'fit' in prediction: 36.620573355817875%\n",
            "Prediction of test data time: 1.302426815032959s\n",
            "accuracy is 0.6858684654300169\n",
            "error list: [('missing', ['size'])]\n",
            "injecting error 'missing' on 50.0% of column 'size' (args = ['size'])\n",
            "Corruption of test data time: 0.015007972717285156s\n",
            "Preprocessing of test data time: 1.7088170051574707s\n",
            "Cleaning of test data time: 0.0s\n",
            "percentage 'fit' in prediction: 36.620573355817875%\n",
            "Prediction of test data time: 1.4836289882659912s\n",
            "accuracy is 0.6858684654300169\n",
            "error list: [('missing', ['age'])]\n",
            "injecting error 'missing' on 50.0% of column 'age' (args = ['age'])\n",
            "Corruption of test data time: 0.016113996505737305s\n",
            "Preprocessing of test data time: 1.7323853969573975s\n",
            "Cleaning of test data time: 0.0s\n",
            "percentage 'fit' in prediction: 36.620573355817875%\n",
            "Prediction of test data time: 1.2824885845184326s\n",
            "accuracy is 0.6858684654300169\n",
            "error list: [('missing', ['review_text'])]\n",
            "injecting error 'missing' on 50.0% of column 'review_text' (args = ['review_text'])\n",
            "Corruption of test data time: 0.01652383804321289s\n",
            "Preprocessing of test data time: 2.2480127811431885s\n",
            "Cleaning of test data time: 0.0s\n",
            "percentage 'fit' in prediction: 59.05564924114671%\n",
            "Prediction of test data time: 1.5825865268707275s\n",
            "accuracy is 0.5504890387858348\n",
            "error list: [('missing', ['review_summary'])]\n",
            "injecting error 'missing' on 50.0% of column 'review_summary' (args = ['review_summary'])\n",
            "Corruption of test data time: 0.01659107208251953s\n",
            "Preprocessing of test data time: 1.6668384075164795s\n",
            "Cleaning of test data time: 0.0s\n",
            "percentage 'fit' in prediction: 36.75548060708263%\n",
            "Prediction of test data time: 1.3158161640167236s\n",
            "accuracy is 0.6803372681281619\n",
            "Using random state: 1 (5/5) \n",
            "error list: [('missing', ['bust size'])]\n",
            "injecting error 'missing' on 50.0% of column 'bust size' (args = ['bust size'])\n",
            "Corruption of test data time: 0.022242069244384766s\n",
            "Preprocessing of test data time: 1.7821974754333496s\n",
            "Cleaning of test data time: 0.0s\n",
            "percentage 'fit' in prediction: 35.898819561551434%\n",
            "Prediction of test data time: 1.83268404006958s\n",
            "accuracy is 0.6818212478920742\n",
            "error list: [('missing', ['rented for'])]\n",
            "injecting error 'missing' on 50.0% of column 'rented for' (args = ['rented for'])\n",
            "Corruption of test data time: 0.033353328704833984s\n",
            "Preprocessing of test data time: 1.941939115524292s\n",
            "Cleaning of test data time: 0.0s\n",
            "percentage 'fit' in prediction: 35.973018549747046%\n",
            "Prediction of test data time: 1.3171751499176025s\n",
            "accuracy is 0.6822934232715009\n",
            "error list: [('missing', ['body type'])]\n",
            "injecting error 'missing' on 50.0% of column 'body type' (args = ['body type'])\n",
            "Corruption of test data time: 0.019643545150756836s\n",
            "Preprocessing of test data time: 1.7909619808197021s\n",
            "Cleaning of test data time: 0.0s\n",
            "percentage 'fit' in prediction: 35.838111298482296%\n",
            "Prediction of test data time: 1.321941614151001s\n",
            "accuracy is 0.6803372681281619\n",
            "error list: [('missing', ['category'])]\n",
            "injecting error 'missing' on 50.0% of column 'category' (args = ['category'])\n",
            "Corruption of test data time: 0.016501426696777344s\n",
            "Preprocessing of test data time: 1.6920216083526611s\n",
            "Cleaning of test data time: 0.0s\n",
            "percentage 'fit' in prediction: 35.676222596964585%\n",
            "Prediction of test data time: 1.3062760829925537s\n",
            "accuracy is 0.6811467116357505\n",
            "error list: [('missing', ['rating'])]\n",
            "injecting error 'missing' on 50.0% of column 'rating' (args = ['rating'])\n",
            "Corruption of test data time: 0.014856100082397461s\n",
            "Preprocessing of test data time: 1.7660367488861084s\n",
            "Cleaning of test data time: 0.0s\n",
            "percentage 'fit' in prediction: 35.81787521079258%\n",
            "Prediction of test data time: 1.3363943099975586s\n",
            "accuracy is 0.6816863406408095\n",
            "error list: [('missing', ['weight'])]\n",
            "injecting error 'missing' on 50.0% of column 'weight' (args = ['weight'])\n",
            "Corruption of test data time: 0.029057979583740234s\n",
            "Preprocessing of test data time: 1.7494227886199951s\n",
            "Cleaning of test data time: 0.0s\n",
            "percentage 'fit' in prediction: 35.81787521079258%\n",
            "Prediction of test data time: 1.3846783638000488s\n",
            "accuracy is 0.6816863406408095\n",
            "error list: [('missing', ['height'])]\n",
            "injecting error 'missing' on 50.0% of column 'height' (args = ['height'])\n",
            "Corruption of test data time: 0.0247039794921875s\n",
            "Preprocessing of test data time: 1.774975061416626s\n",
            "Cleaning of test data time: 0.0s\n",
            "percentage 'fit' in prediction: 35.81787521079258%\n",
            "Prediction of test data time: 1.4517817497253418s\n",
            "accuracy is 0.6816863406408095\n",
            "error list: [('missing', ['size'])]\n",
            "injecting error 'missing' on 50.0% of column 'size' (args = ['size'])\n",
            "Corruption of test data time: 0.01129007339477539s\n",
            "Preprocessing of test data time: 1.7095234394073486s\n",
            "Cleaning of test data time: 0.0s\n",
            "percentage 'fit' in prediction: 35.81787521079258%\n",
            "Prediction of test data time: 1.3065810203552246s\n",
            "accuracy is 0.6816863406408095\n",
            "error list: [('missing', ['age'])]\n",
            "injecting error 'missing' on 50.0% of column 'age' (args = ['age'])\n",
            "Corruption of test data time: 0.022159576416015625s\n",
            "Preprocessing of test data time: 1.7332196235656738s\n",
            "Cleaning of test data time: 0.0s\n",
            "percentage 'fit' in prediction: 35.81787521079258%\n",
            "Prediction of test data time: 1.3992154598236084s\n",
            "accuracy is 0.6816863406408095\n",
            "error list: [('missing', ['review_text'])]\n",
            "injecting error 'missing' on 50.0% of column 'review_text' (args = ['review_text'])\n",
            "Corruption of test data time: 0.016746044158935547s\n",
            "Preprocessing of test data time: 2.1657354831695557s\n",
            "Cleaning of test data time: 0.0s\n",
            "percentage 'fit' in prediction: 59.62225969645868%\n",
            "Prediction of test data time: 1.5516033172607422s\n",
            "accuracy is 0.5459696458684654\n",
            "error list: [('missing', ['review_summary'])]\n",
            "injecting error 'missing' on 50.0% of column 'review_summary' (args = ['review_summary'])\n",
            "Corruption of test data time: 0.03467369079589844s\n",
            "Preprocessing of test data time: 1.748492956161499s\n",
            "Cleaning of test data time: 0.0s\n",
            "percentage 'fit' in prediction: 35.60876897133221%\n",
            "Prediction of test data time: 1.326451301574707s\n",
            "accuracy is 0.6735244519392918\n"
          ]
        }
      ]
    },
    {
      "cell_type": "code",
      "source": [
        "import matplotlib.pyplot as plt\n",
        "\n",
        "def plot_test_result(file):\n",
        "  df = pd.read_csv(file)\n",
        "  df.rename(columns={ df.columns[0]: \"type\" }, inplace = True)\n",
        "\n",
        "  df = df.loc[lambda x: x[\"type\"] == \"accuracy\"]\n",
        "  accuracy = (df[\"precision\"]).astype(float)\n",
        "  error_tuple = df[\"error tuple\"]\n",
        "  random_state = df['random state']\n",
        "\n",
        "  accuracy = pd.concat([error_tuple, accuracy, random_state], axis = 1)\n",
        "\n",
        "  grouped_data =accuracy.groupby('error tuple')['precision'].mean().reset_index()\n",
        "\n",
        "  # Plot the average accuracy against the error tuple\n",
        "  plt.figure(figsize=(10, 6))\n",
        "  plt.bar(grouped_data['error tuple'], grouped_data['precision'])\n",
        "\n",
        "  print(grouped_data)\n",
        "\n",
        "\n",
        "  plt.xlabel('Error tuple')\n",
        "  plt.ylabel('Accuracy')\n",
        "  plt.ylim(0.53, 0.70)\n",
        "  plt.xticks(rotation=90)\n",
        "  plt.title('Accuracy vs. Error Tuple Bar graph')\n",
        "  plt.grid(True)\n",
        "  plt.show()\n",
        "\n",
        "\n",
        "plot_test_result(file)\n"
      ],
      "metadata": {
        "id": "YDmeQJVUChAA",
        "colab": {
          "base_uri": "https://localhost:8080/",
          "height": 1000
        },
        "outputId": "19bdf2d1-2611-4602-d10a-de6c0fbd71dd"
      },
      "execution_count": null,
      "outputs": [
        {
          "output_type": "stream",
          "name": "stdout",
          "text": [
            "                              error tuple  precision\n",
            "0   [('manual_typo', ['review_summary'])]   0.672416\n",
            "1      [('manual_typo', ['review_text'])]   0.593178\n",
            "2                  [('missing', ['age'])]   0.678511\n",
            "3            [('missing', ['body type'])]   0.680464\n",
            "4            [('missing', ['bust size'])]   0.679858\n",
            "5             [('missing', ['category'])]   0.679265\n",
            "6               [('missing', ['height'])]   0.681143\n",
            "7               [('missing', ['rating'])]   0.681810\n",
            "8           [('missing', ['rented for'])]   0.679217\n",
            "9       [('missing', ['review_summary'])]   0.673542\n",
            "10         [('missing', ['review_text'])]   0.546285\n",
            "11                [('missing', ['size'])]   0.680508\n",
            "12              [('missing', ['weight'])]   0.683172\n"
          ]
        },
        {
          "output_type": "display_data",
          "data": {
            "text/plain": [
              "<Figure size 1000x600 with 1 Axes>"
            ],
            "image/png": "[encoded data removed]"
          },
          "metadata": {}
        }
      ]
    },
    {
      "cell_type": "code",
      "source": [],
      "metadata": {
        "id": "j1nrOyEkySwm"
      },
      "execution_count": null,
      "outputs": []
    }
  ]
}